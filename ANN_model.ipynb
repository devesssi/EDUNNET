{
  "nbformat": 4,
  "nbformat_minor": 0,
  "metadata": {
    "colab": {
      "provenance": [],
      "include_colab_link": true
    },
    "kernelspec": {
      "name": "python3",
      "display_name": "Python 3"
    },
    "language_info": {
      "name": "python"
    }
  },
  "cells": [
    {
      "cell_type": "markdown",
      "metadata": {
        "id": "view-in-github",
        "colab_type": "text"
      },
      "source": [
        "<a href=\"https://colab.research.google.com/github/devesssi/EDUNNET/blob/main/ANN_model.ipynb\" target=\"_parent\"><img src=\"https://colab.research.google.com/assets/colab-badge.svg\" alt=\"Open In Colab\"/></a>"
      ]
    },
    {
      "cell_type": "code",
      "execution_count": 15,
      "metadata": {
        "id": "vFv8oqO9kQs9"
      },
      "outputs": [],
      "source": [
        "import pandas as pd\n",
        "import numpy as np\n",
        "import matplotlib.pyplot as plt\n",
        "import seaborn as sns\n",
        "\n",
        "from tensorflow.keras.models import Sequential  # Build NN\n",
        "from tensorflow.keras.layers import Dense  # creating layers"
      ]
    },
    {
      "cell_type": "code",
      "source": [
        "# lets read a file\n",
        "df= pd.read_csv(\"green_tech_data.csv\")\n",
        "df.head()"
      ],
      "metadata": {
        "colab": {
          "base_uri": "https://localhost:8080/",
          "height": 206
        },
        "id": "YaxMgnOGkuIf",
        "outputId": "4d8071f2-718e-45e4-f9db-89f6ebd2a45f"
      },
      "execution_count": 16,
      "outputs": [
        {
          "output_type": "execute_result",
          "data": {
            "text/plain": [
              "   carbon_emissions  energy_output  renewability_index  cost_efficiency  \\\n",
              "0        181.089042     128.286267            0.642032         0.732568   \n",
              "1        382.750007     672.769370            0.084140         2.891096   \n",
              "2        306.197880     382.920383            0.161629         2.932858   \n",
              "3        259.530469     557.713622            0.898554         3.368435   \n",
              "4        104.606524     916.809827            0.606429         3.767411   \n",
              "\n",
              "   sustainability  \n",
              "0               1  \n",
              "1               0  \n",
              "2               0  \n",
              "3               0  \n",
              "4               0  "
            ],
            "text/html": [
              "\n",
              "  <div id=\"df-b830ace3-1f19-4d4c-b1ce-957ca3467d35\" class=\"colab-df-container\">\n",
              "    <div>\n",
              "<style scoped>\n",
              "    .dataframe tbody tr th:only-of-type {\n",
              "        vertical-align: middle;\n",
              "    }\n",
              "\n",
              "    .dataframe tbody tr th {\n",
              "        vertical-align: top;\n",
              "    }\n",
              "\n",
              "    .dataframe thead th {\n",
              "        text-align: right;\n",
              "    }\n",
              "</style>\n",
              "<table border=\"1\" class=\"dataframe\">\n",
              "  <thead>\n",
              "    <tr style=\"text-align: right;\">\n",
              "      <th></th>\n",
              "      <th>carbon_emissions</th>\n",
              "      <th>energy_output</th>\n",
              "      <th>renewability_index</th>\n",
              "      <th>cost_efficiency</th>\n",
              "      <th>sustainability</th>\n",
              "    </tr>\n",
              "  </thead>\n",
              "  <tbody>\n",
              "    <tr>\n",
              "      <th>0</th>\n",
              "      <td>181.089042</td>\n",
              "      <td>128.286267</td>\n",
              "      <td>0.642032</td>\n",
              "      <td>0.732568</td>\n",
              "      <td>1</td>\n",
              "    </tr>\n",
              "    <tr>\n",
              "      <th>1</th>\n",
              "      <td>382.750007</td>\n",
              "      <td>672.769370</td>\n",
              "      <td>0.084140</td>\n",
              "      <td>2.891096</td>\n",
              "      <td>0</td>\n",
              "    </tr>\n",
              "    <tr>\n",
              "      <th>2</th>\n",
              "      <td>306.197880</td>\n",
              "      <td>382.920383</td>\n",
              "      <td>0.161629</td>\n",
              "      <td>2.932858</td>\n",
              "      <td>0</td>\n",
              "    </tr>\n",
              "    <tr>\n",
              "      <th>3</th>\n",
              "      <td>259.530469</td>\n",
              "      <td>557.713622</td>\n",
              "      <td>0.898554</td>\n",
              "      <td>3.368435</td>\n",
              "      <td>0</td>\n",
              "    </tr>\n",
              "    <tr>\n",
              "      <th>4</th>\n",
              "      <td>104.606524</td>\n",
              "      <td>916.809827</td>\n",
              "      <td>0.606429</td>\n",
              "      <td>3.767411</td>\n",
              "      <td>0</td>\n",
              "    </tr>\n",
              "  </tbody>\n",
              "</table>\n",
              "</div>\n",
              "    <div class=\"colab-df-buttons\">\n",
              "\n",
              "  <div class=\"colab-df-container\">\n",
              "    <button class=\"colab-df-convert\" onclick=\"convertToInteractive('df-b830ace3-1f19-4d4c-b1ce-957ca3467d35')\"\n",
              "            title=\"Convert this dataframe to an interactive table.\"\n",
              "            style=\"display:none;\">\n",
              "\n",
              "  <svg xmlns=\"http://www.w3.org/2000/svg\" height=\"24px\" viewBox=\"0 -960 960 960\">\n",
              "    <path d=\"M120-120v-720h720v720H120Zm60-500h600v-160H180v160Zm220 220h160v-160H400v160Zm0 220h160v-160H400v160ZM180-400h160v-160H180v160Zm440 0h160v-160H620v160ZM180-180h160v-160H180v160Zm440 0h160v-160H620v160Z\"/>\n",
              "  </svg>\n",
              "    </button>\n",
              "\n",
              "  <style>\n",
              "    .colab-df-container {\n",
              "      display:flex;\n",
              "      gap: 12px;\n",
              "    }\n",
              "\n",
              "    .colab-df-convert {\n",
              "      background-color: #E8F0FE;\n",
              "      border: none;\n",
              "      border-radius: 50%;\n",
              "      cursor: pointer;\n",
              "      display: none;\n",
              "      fill: #1967D2;\n",
              "      height: 32px;\n",
              "      padding: 0 0 0 0;\n",
              "      width: 32px;\n",
              "    }\n",
              "\n",
              "    .colab-df-convert:hover {\n",
              "      background-color: #E2EBFA;\n",
              "      box-shadow: 0px 1px 2px rgba(60, 64, 67, 0.3), 0px 1px 3px 1px rgba(60, 64, 67, 0.15);\n",
              "      fill: #174EA6;\n",
              "    }\n",
              "\n",
              "    .colab-df-buttons div {\n",
              "      margin-bottom: 4px;\n",
              "    }\n",
              "\n",
              "    [theme=dark] .colab-df-convert {\n",
              "      background-color: #3B4455;\n",
              "      fill: #D2E3FC;\n",
              "    }\n",
              "\n",
              "    [theme=dark] .colab-df-convert:hover {\n",
              "      background-color: #434B5C;\n",
              "      box-shadow: 0px 1px 3px 1px rgba(0, 0, 0, 0.15);\n",
              "      filter: drop-shadow(0px 1px 2px rgba(0, 0, 0, 0.3));\n",
              "      fill: #FFFFFF;\n",
              "    }\n",
              "  </style>\n",
              "\n",
              "    <script>\n",
              "      const buttonEl =\n",
              "        document.querySelector('#df-b830ace3-1f19-4d4c-b1ce-957ca3467d35 button.colab-df-convert');\n",
              "      buttonEl.style.display =\n",
              "        google.colab.kernel.accessAllowed ? 'block' : 'none';\n",
              "\n",
              "      async function convertToInteractive(key) {\n",
              "        const element = document.querySelector('#df-b830ace3-1f19-4d4c-b1ce-957ca3467d35');\n",
              "        const dataTable =\n",
              "          await google.colab.kernel.invokeFunction('convertToInteractive',\n",
              "                                                    [key], {});\n",
              "        if (!dataTable) return;\n",
              "\n",
              "        const docLinkHtml = 'Like what you see? Visit the ' +\n",
              "          '<a target=\"_blank\" href=https://colab.research.google.com/notebooks/data_table.ipynb>data table notebook</a>'\n",
              "          + ' to learn more about interactive tables.';\n",
              "        element.innerHTML = '';\n",
              "        dataTable['output_type'] = 'display_data';\n",
              "        await google.colab.output.renderOutput(dataTable, element);\n",
              "        const docLink = document.createElement('div');\n",
              "        docLink.innerHTML = docLinkHtml;\n",
              "        element.appendChild(docLink);\n",
              "      }\n",
              "    </script>\n",
              "  </div>\n",
              "\n",
              "\n",
              "    <div id=\"df-e9b9b3db-0faa-4dd3-a62f-2d88cc440c4b\">\n",
              "      <button class=\"colab-df-quickchart\" onclick=\"quickchart('df-e9b9b3db-0faa-4dd3-a62f-2d88cc440c4b')\"\n",
              "                title=\"Suggest charts\"\n",
              "                style=\"display:none;\">\n",
              "\n",
              "<svg xmlns=\"http://www.w3.org/2000/svg\" height=\"24px\"viewBox=\"0 0 24 24\"\n",
              "     width=\"24px\">\n",
              "    <g>\n",
              "        <path d=\"M19 3H5c-1.1 0-2 .9-2 2v14c0 1.1.9 2 2 2h14c1.1 0 2-.9 2-2V5c0-1.1-.9-2-2-2zM9 17H7v-7h2v7zm4 0h-2V7h2v10zm4 0h-2v-4h2v4z\"/>\n",
              "    </g>\n",
              "</svg>\n",
              "      </button>\n",
              "\n",
              "<style>\n",
              "  .colab-df-quickchart {\n",
              "      --bg-color: #E8F0FE;\n",
              "      --fill-color: #1967D2;\n",
              "      --hover-bg-color: #E2EBFA;\n",
              "      --hover-fill-color: #174EA6;\n",
              "      --disabled-fill-color: #AAA;\n",
              "      --disabled-bg-color: #DDD;\n",
              "  }\n",
              "\n",
              "  [theme=dark] .colab-df-quickchart {\n",
              "      --bg-color: #3B4455;\n",
              "      --fill-color: #D2E3FC;\n",
              "      --hover-bg-color: #434B5C;\n",
              "      --hover-fill-color: #FFFFFF;\n",
              "      --disabled-bg-color: #3B4455;\n",
              "      --disabled-fill-color: #666;\n",
              "  }\n",
              "\n",
              "  .colab-df-quickchart {\n",
              "    background-color: var(--bg-color);\n",
              "    border: none;\n",
              "    border-radius: 50%;\n",
              "    cursor: pointer;\n",
              "    display: none;\n",
              "    fill: var(--fill-color);\n",
              "    height: 32px;\n",
              "    padding: 0;\n",
              "    width: 32px;\n",
              "  }\n",
              "\n",
              "  .colab-df-quickchart:hover {\n",
              "    background-color: var(--hover-bg-color);\n",
              "    box-shadow: 0 1px 2px rgba(60, 64, 67, 0.3), 0 1px 3px 1px rgba(60, 64, 67, 0.15);\n",
              "    fill: var(--button-hover-fill-color);\n",
              "  }\n",
              "\n",
              "  .colab-df-quickchart-complete:disabled,\n",
              "  .colab-df-quickchart-complete:disabled:hover {\n",
              "    background-color: var(--disabled-bg-color);\n",
              "    fill: var(--disabled-fill-color);\n",
              "    box-shadow: none;\n",
              "  }\n",
              "\n",
              "  .colab-df-spinner {\n",
              "    border: 2px solid var(--fill-color);\n",
              "    border-color: transparent;\n",
              "    border-bottom-color: var(--fill-color);\n",
              "    animation:\n",
              "      spin 1s steps(1) infinite;\n",
              "  }\n",
              "\n",
              "  @keyframes spin {\n",
              "    0% {\n",
              "      border-color: transparent;\n",
              "      border-bottom-color: var(--fill-color);\n",
              "      border-left-color: var(--fill-color);\n",
              "    }\n",
              "    20% {\n",
              "      border-color: transparent;\n",
              "      border-left-color: var(--fill-color);\n",
              "      border-top-color: var(--fill-color);\n",
              "    }\n",
              "    30% {\n",
              "      border-color: transparent;\n",
              "      border-left-color: var(--fill-color);\n",
              "      border-top-color: var(--fill-color);\n",
              "      border-right-color: var(--fill-color);\n",
              "    }\n",
              "    40% {\n",
              "      border-color: transparent;\n",
              "      border-right-color: var(--fill-color);\n",
              "      border-top-color: var(--fill-color);\n",
              "    }\n",
              "    60% {\n",
              "      border-color: transparent;\n",
              "      border-right-color: var(--fill-color);\n",
              "    }\n",
              "    80% {\n",
              "      border-color: transparent;\n",
              "      border-right-color: var(--fill-color);\n",
              "      border-bottom-color: var(--fill-color);\n",
              "    }\n",
              "    90% {\n",
              "      border-color: transparent;\n",
              "      border-bottom-color: var(--fill-color);\n",
              "    }\n",
              "  }\n",
              "</style>\n",
              "\n",
              "      <script>\n",
              "        async function quickchart(key) {\n",
              "          const quickchartButtonEl =\n",
              "            document.querySelector('#' + key + ' button');\n",
              "          quickchartButtonEl.disabled = true;  // To prevent multiple clicks.\n",
              "          quickchartButtonEl.classList.add('colab-df-spinner');\n",
              "          try {\n",
              "            const charts = await google.colab.kernel.invokeFunction(\n",
              "                'suggestCharts', [key], {});\n",
              "          } catch (error) {\n",
              "            console.error('Error during call to suggestCharts:', error);\n",
              "          }\n",
              "          quickchartButtonEl.classList.remove('colab-df-spinner');\n",
              "          quickchartButtonEl.classList.add('colab-df-quickchart-complete');\n",
              "        }\n",
              "        (() => {\n",
              "          let quickchartButtonEl =\n",
              "            document.querySelector('#df-e9b9b3db-0faa-4dd3-a62f-2d88cc440c4b button');\n",
              "          quickchartButtonEl.style.display =\n",
              "            google.colab.kernel.accessAllowed ? 'block' : 'none';\n",
              "        })();\n",
              "      </script>\n",
              "    </div>\n",
              "\n",
              "    </div>\n",
              "  </div>\n"
            ],
            "application/vnd.google.colaboratory.intrinsic+json": {
              "type": "dataframe",
              "variable_name": "df",
              "summary": "{\n  \"name\": \"df\",\n  \"rows\": 100,\n  \"fields\": [\n    {\n      \"column\": \"carbon_emissions\",\n      \"properties\": {\n        \"dtype\": \"number\",\n        \"std\": 104.12129385536177,\n        \"min\": 51.93274099326084,\n        \"max\": 395.410427810181,\n        \"num_unique_values\": 100,\n        \"samples\": [\n          72.24542260010827,\n          363.1895726496771,\n          320.2856692538301\n        ],\n        \"semantic_type\": \"\",\n        \"description\": \"\"\n      }\n    },\n    {\n      \"column\": \"energy_output\",\n      \"properties\": {\n        \"dtype\": \"number\",\n        \"std\": 263.80012726357575,\n        \"min\": 106.25691747807164,\n        \"max\": 987.0854086995406,\n        \"num_unique_values\": 100,\n        \"samples\": [\n          889.6054180428829,\n          540.5074842498068,\n          709.8079256580542\n        ],\n        \"semantic_type\": \"\",\n        \"description\": \"\"\n      }\n    },\n    {\n      \"column\": \"renewability_index\",\n      \"properties\": {\n        \"dtype\": \"number\",\n        \"std\": 0.29342624706090625,\n        \"min\": 0.0050615838462186,\n        \"max\": 0.9900538501042632,\n        \"num_unique_values\": 100,\n        \"samples\": [\n          0.093981939840869,\n          0.3169220051562776,\n          0.8093611554785136\n        ],\n        \"semantic_type\": \"\",\n        \"description\": \"\"\n      }\n    },\n    {\n      \"column\": \"cost_efficiency\",\n      \"properties\": {\n        \"dtype\": \"number\",\n        \"std\": 1.3205349838651548,\n        \"min\": 0.5647706988339014,\n        \"max\": 4.95727313900303,\n        \"num_unique_values\": 100,\n        \"samples\": [\n          4.4486240608717385,\n          1.2332049218664336,\n          0.95350100619842\n        ],\n        \"semantic_type\": \"\",\n        \"description\": \"\"\n      }\n    },\n    {\n      \"column\": \"sustainability\",\n      \"properties\": {\n        \"dtype\": \"number\",\n        \"std\": 0,\n        \"min\": 0,\n        \"max\": 1,\n        \"num_unique_values\": 2,\n        \"samples\": [\n          0,\n          1\n        ],\n        \"semantic_type\": \"\",\n        \"description\": \"\"\n      }\n    }\n  ]\n}"
            }
          },
          "metadata": {},
          "execution_count": 16
        }
      ]
    },
    {
      "cell_type": "code",
      "source": [
        "df.info()"
      ],
      "metadata": {
        "colab": {
          "base_uri": "https://localhost:8080/"
        },
        "id": "nxswaYDKmDE0",
        "outputId": "e6ed8d10-616d-44d8-c42c-a874ef7dd897"
      },
      "execution_count": 17,
      "outputs": [
        {
          "output_type": "stream",
          "name": "stdout",
          "text": [
            "<class 'pandas.core.frame.DataFrame'>\n",
            "RangeIndex: 100 entries, 0 to 99\n",
            "Data columns (total 5 columns):\n",
            " #   Column              Non-Null Count  Dtype  \n",
            "---  ------              --------------  -----  \n",
            " 0   carbon_emissions    100 non-null    float64\n",
            " 1   energy_output       100 non-null    float64\n",
            " 2   renewability_index  100 non-null    float64\n",
            " 3   cost_efficiency     100 non-null    float64\n",
            " 4   sustainability      100 non-null    int64  \n",
            "dtypes: float64(4), int64(1)\n",
            "memory usage: 4.0 KB\n"
          ]
        }
      ]
    },
    {
      "cell_type": "code",
      "source": [
        "#seperate X and Y\n",
        "# but X has to be in array.\n",
        "# Y has to be 1D array and there will be only 1 op column\n",
        "x= df.iloc[:, 0:-1 ].values\n",
        "x\n",
        "\n",
        "# [:,0:-1] here  : stands for all rows and 0:-1 used to fetch 0th column to last column but last column\n",
        "# will be excluded.\n",
        "\n",
        "# .values is a property to convert your data into array.\n",
        "\n",
        "\n",
        "# we converted the data of x and y in array to use numpy for numerical calc\n"
      ],
      "metadata": {
        "colab": {
          "base_uri": "https://localhost:8080/"
        },
        "collapsed": true,
        "id": "XxeErue6ku4j",
        "outputId": "3151bdcd-2830-4f17-d3df-994069111a30"
      },
      "execution_count": 18,
      "outputs": [
        {
          "output_type": "execute_result",
          "data": {
            "text/plain": [
              "array([[1.81089042e+02, 1.28286267e+02, 6.42031646e-01, 7.32567745e-01],\n",
              "       [3.82750007e+02, 6.72769370e+02, 8.41399650e-02, 2.89109584e+00],\n",
              "       [3.06197880e+02, 3.82920383e+02, 1.61628714e-01, 2.93285805e+00],\n",
              "       [2.59530469e+02, 5.57713622e+02, 8.98554189e-01, 3.36843456e+00],\n",
              "       [1.04606524e+02, 9.16809827e+02, 6.06429060e-01, 3.76741100e+00],\n",
              "       [1.04598082e+02, 3.24363006e+02, 9.19705162e-03, 4.89133436e+00],\n",
              "       [7.03292643e+01, 4.69344631e+02, 1.01471543e-01, 2.82335157e+00],\n",
              "       [3.53161651e+02, 7.79996025e+02, 6.63501769e-01, 1.95330413e+00],\n",
              "       [2.60390254e+02, 3.05918349e+02, 5.06158385e-03, 4.07833788e+00],\n",
              "       [2.97825402e+02, 1.69281919e+02, 1.60808051e-01, 1.71874513e+00],\n",
              "       [5.72045730e+01, 3.60776308e+02, 5.48733789e-01, 2.47537139e+00],\n",
              "       [3.89468448e+02, 2.45099159e+02, 6.91895198e-01, 8.53053716e-01],\n",
              "       [3.41354924e+02, 9.36727887e+02, 6.51961260e-01, 6.14078345e-01],\n",
              "       [1.24318689e+02, 8.27308342e+02, 2.24269309e-01, 4.83191787e+00],\n",
              "       [1.13638739e+02, 6.70063381e+02, 7.12179221e-01, 4.26191054e+00],\n",
              "       [1.14191578e+02, 8.84314531e+02, 2.37249087e-01, 3.63188393e+00],\n",
              "       [1.56484785e+02, 8.23304869e+02, 3.25399698e-01, 2.34028825e+00],\n",
              "       [2.33664751e+02, 2.67913053e+02, 7.46491405e-01, 1.27982444e+00],\n",
              "       [2.01180757e+02, 9.03303099e+02, 6.49632899e-01, 1.20396669e+00],\n",
              "       [1.51930199e+02, 5.85408018e+02, 8.49223410e-01, 1.62609304e+00],\n",
              "       [2.64148513e+02, 8.26696140e+02, 6.57612892e-01, 2.97151999e+00],\n",
              "       [9.88228512e+01, 9.06482170e+02, 5.68308603e-01, 3.71568165e+00],\n",
              "       [1.52250627e+02, 3.86203127e+02, 9.36747678e-02, 3.47088820e+00],\n",
              "       [1.78226645e+02, 1.99046732e+02, 3.67715803e-01, 1.75970254e+00],\n",
              "       [2.09624494e+02, 3.05141646e+02, 2.65202368e-01, 4.79689376e+00],\n",
              "       [3.24811586e+02, 4.84397010e+02, 2.43989643e-01, 3.82053613e+00],\n",
              "       [1.19885824e+02, 8.36213289e+02, 9.73010555e-01, 2.99459324e+00],\n",
              "       [2.29982053e+02, 8.74657525e+02, 3.93097725e-01, 3.25274336e+00],\n",
              "       [2.57345099e+02, 1.06256917e+02, 8.92046555e-01, 2.38820028e+00],\n",
              "       [6.62576445e+01, 5.59672572e+02, 6.31138626e-01, 1.61478945e+00],\n",
              "       [2.62640698e+02, 4.75669903e+02, 7.94811304e-01, 2.10187705e+00],\n",
              "       [1.09683443e+02, 2.99897029e+02, 5.02637093e-01, 3.91030750e+00],\n",
              "       [7.27680575e+01, 2.07878831e+02, 5.76903885e-01, 5.64770699e-01],\n",
              "       [3.82109938e+02, 4.03853654e+02, 4.92517694e-01, 1.02232688e+00],\n",
              "       [3.87971212e+02, 9.48618734e+02, 1.95242988e-01, 7.07011889e-01],\n",
              "       [3.32939072e+02, 3.90882639e+02, 7.22452115e-01, 6.83279610e-01],\n",
              "       [1.56614819e+02, 5.66911560e+02, 2.80772362e-01, 4.34957263e+00],\n",
              "       [8.41852399e+01, 7.32717063e+02, 2.43159664e-02, 3.66646037e+00],\n",
              "       [2.89481559e+02, 4.27266642e+02, 6.45472296e-01, 2.63378223e+00],\n",
              "       [2.04053373e+02, 9.74603874e+02, 1.77110679e-01, 9.40253723e-01],\n",
              "       [9.27133822e+01, 9.66202565e+02, 9.40458584e-01, 2.71227144e+00],\n",
              "       [2.23311919e+02, 3.26604066e+02, 9.53928577e-01, 2.63062297e+00],\n",
              "       [6.20359824e+01, 5.47523655e+02, 9.14864390e-01, 1.27940841e+00],\n",
              "       [3.68262141e+02, 3.70790479e+02, 3.70158700e-01, 2.45233242e+00],\n",
              "       [1.40572994e+02, 3.56356445e+02, 1.54566165e-02, 2.29327130e+00],\n",
              "       [2.81882800e+02, 1.33198253e+02, 9.28318563e-01, 3.27132544e+00],\n",
              "       [1.59098877e+02, 6.48607901e+02, 4.28184148e-01, 3.35792143e+00],\n",
              "       [2.32023807e+02, 5.52411121e+02, 9.66654819e-01, 7.03868044e-01],\n",
              "       [2.41348598e+02, 1.46330876e+02, 9.63619977e-01, 2.18575677e+00],\n",
              "       [1.14699059e+02, 3.50781818e+02, 8.53009455e-01, 3.31636962e+00],\n",
              "       [3.89354620e+02, 9.17439297e+02, 2.94448892e-01, 2.76411316e+00],\n",
              "       [3.21296488e+02, 3.15605702e+02, 3.85097729e-01, 4.35420429e+00],\n",
              "       [3.78824630e+02, 2.30405385e+02, 8.51136672e-01, 3.46412134e+00],\n",
              "       [3.63189573e+02, 5.40507484e+02, 3.16922005e-01, 1.23320492e+00],\n",
              "       [2.59264993e+02, 9.87085409e+02, 1.69492747e-01, 8.17559363e-01],\n",
              "       [3.72655982e+02, 3.17849744e+02, 5.56801262e-01, 3.39088675e+00],\n",
              "       [8.09723757e+01, 7.04921993e+02, 9.36154774e-01, 6.19300897e-01],\n",
              "       [1.18594002e+02, 7.85457654e+02, 6.96029797e-01, 3.13599012e+00],\n",
              "       [6.58295511e+01, 3.13873790e+02, 5.70061170e-01, 4.73103609e+00],\n",
              "       [1.63865616e+02, 7.55394714e+02, 9.71764938e-02, 3.08963380e+00],\n",
              "       [1.86037051e+02, 4.31004819e+02, 6.15007227e-01, 2.24676467e+00],\n",
              "       [1.44972161e+02, 6.69075248e+02, 9.90053850e-01, 3.39479698e+00],\n",
              "       [3.40058128e+02, 6.70176740e+02, 1.40084015e-01, 2.56213801e+00],\n",
              "       [1.74863664e+02, 5.82197216e+02, 5.18329652e-01, 2.95527555e+00],\n",
              "       [1.48327078e+02, 1.81260793e+02, 8.77373072e-01, 4.73659164e+00],\n",
              "       [2.39943629e+02, 8.51772246e+02, 7.40768618e-01, 2.23746187e+00],\n",
              "       [9.93234787e+01, 3.88702058e+02, 6.97015741e-01, 4.82535754e+00],\n",
              "       [3.30768943e+02, 2.67866659e+02, 7.02484084e-01, 4.57407789e+00],\n",
              "       [7.60927253e+01, 1.36697627e+02, 3.59491151e-01, 1.38106011e+00],\n",
              "       [3.95410428e+02, 6.31803649e+02, 2.93591844e-01, 8.12125854e-01],\n",
              "       [3.20285669e+02, 7.09807926e+02, 8.09361155e-01, 9.53501006e-01],\n",
              "       [1.19550489e+02, 1.14929046e+02, 8.10113395e-01, 5.81998215e-01],\n",
              "       [5.19327410e+01, 5.60883752e+02, 8.67072319e-01, 9.24993323e-01],\n",
              "       [3.35411500e+02, 3.03846198e+02, 9.13240553e-01, 3.57353048e+00],\n",
              "       [2.97400070e+02, 6.80655511e+02, 5.11342399e-01, 8.20348918e-01],\n",
              "       [3.05152509e+02, 2.56929786e+02, 5.01516295e-01, 1.93539034e+00],\n",
              "       [3.19944621e+02, 7.21843964e+02, 7.98295179e-01, 4.30193890e+00],\n",
              "       [7.59156281e+01, 4.48061812e+02, 6.49963931e-01, 6.04723711e-01],\n",
              "       [1.75463005e+02, 9.43056990e+02, 7.01966877e-01, 4.16510817e+00],\n",
              "       [9.05541708e+01, 2.23768850e+02, 7.95792669e-01, 1.76834649e+00],\n",
              "       [3.52086199e+02, 4.06959716e+02, 8.90005342e-01, 1.03174172e+00],\n",
              "       [2.68154344e+02, 2.02126169e+02, 3.37995157e-01, 3.63531724e+00],\n",
              "       [1.65814309e+02, 9.32224256e+02, 3.75582953e-01, 3.33024281e+00],\n",
              "       [7.22454226e+01, 8.89605418e+02, 9.39819398e-02, 4.44862406e+00],\n",
              "       [1.58843813e+02, 3.32147465e+02, 5.78280141e-01, 3.80781970e+00],\n",
              "       [1.63814163e+02, 6.93985641e+02, 3.59422738e-02, 4.11566419e+00],\n",
              "       [3.05362162e+02, 8.35499980e+02, 4.65598018e-01, 1.76915558e+00],\n",
              "       [2.73145115e+02, 5.99680730e+02, 5.42644635e-01, 1.29847795e+00],\n",
              "       [3.60524460e+02, 5.76685521e+02, 2.86541252e-01, 3.87776638e+00],\n",
              "       [2.15275224e+02, 3.17667062e+02, 5.90833261e-01, 4.13075633e+00],\n",
              "       [9.18579861e+01, 1.83792491e+02, 3.05002499e-02, 4.95727314e+00],\n",
              "       [2.99635676e+02, 9.07494182e+02, 3.73481887e-02, 2.35677955e+00],\n",
              "       [3.16274767e+02, 9.10376251e+02, 8.22600561e-01, 2.17408139e+00],\n",
              "       [2.46447019e+02, 6.69791312e+02, 3.60190641e-01, 3.99385832e+00],\n",
              "       [3.19838513e+02, 4.05126812e+02, 1.27060513e-01, 2.03361593e+00],\n",
              "       [2.22828459e+02, 4.14288617e+02, 5.22243260e-01, 4.68840797e+00],\n",
              "       [2.32956490e+02, 7.53360111e+02, 7.69993553e-01, 4.36285738e+00],\n",
              "       [1.99639356e+02, 9.07399234e+02, 2.15821027e-01, 2.43047312e+00],\n",
              "       [5.88966944e+01, 8.98377782e+02, 6.22890476e-01, 3.87891981e+00],\n",
              "       [8.77619994e+01, 8.01887991e+02, 8.53474650e-02, 3.89544293e+00]])"
            ]
          },
          "metadata": {},
          "execution_count": 18
        }
      ]
    },
    {
      "cell_type": "code",
      "source": [
        "y= df[\"sustainability\"].values\n",
        "y"
      ],
      "metadata": {
        "colab": {
          "base_uri": "https://localhost:8080/"
        },
        "id": "OtKYwZBWmp4z",
        "outputId": "6c46b43c-5633-4cb0-91d5-b0f7f3976b25"
      },
      "execution_count": 19,
      "outputs": [
        {
          "output_type": "execute_result",
          "data": {
            "text/plain": [
              "array([1, 0, 0, 0, 0, 0, 0, 0, 0, 0, 1, 0, 0, 0, 0, 0, 0, 0, 0, 1, 0, 0,\n",
              "       0, 0, 0, 0, 1, 0, 0, 1, 0, 0, 1, 0, 0, 0, 0, 0, 0, 0, 1, 0, 1, 0,\n",
              "       0, 0, 0, 0, 0, 0, 0, 0, 0, 0, 0, 0, 1, 0, 0, 0, 1, 0, 0, 1, 0, 0,\n",
              "       0, 0, 0, 0, 0, 1, 1, 0, 0, 0, 0, 1, 0, 1, 0, 0, 0, 0, 0, 0, 0, 0,\n",
              "       0, 0, 0, 0, 0, 0, 0, 0, 0, 0, 0, 0])"
            ]
          },
          "metadata": {},
          "execution_count": 19
        }
      ]
    },
    {
      "cell_type": "code",
      "source": [
        "# look scaling is very imp to use in ANN\n",
        "from sklearn.preprocessing import StandardScaler\n",
        "sc= StandardScaler()\n",
        "x= sc.fit_transform(x)\n",
        "x"
      ],
      "metadata": {
        "colab": {
          "base_uri": "https://localhost:8080/"
        },
        "id": "5G_hDnWOx6X6",
        "outputId": "4d1d9dfa-120b-4476-90ee-900d95830526"
      },
      "execution_count": 20,
      "outputs": [
        {
          "output_type": "execute_result",
          "data": {
            "text/plain": [
              "array([[-3.23112154e-01, -1.59922959e+00,  4.26196271e-01,\n",
              "        -1.50512126e+00],\n",
              "       [ 1.62343393e+00,  4.75167094e-01, -1.48468335e+00,\n",
              "         1.37699554e-01],\n",
              "       [ 8.84509348e-01, -6.29112862e-01, -1.21927041e+00,\n",
              "         1.69484093e-01],\n",
              "       [ 4.34049022e-01,  3.68224313e-02,  1.30483224e+00,\n",
              "         5.00994328e-01],\n",
              "       [-1.06136481e+00,  1.40492361e+00,  3.04250992e-01,\n",
              "         8.04648847e-01],\n",
              "       [-1.06144630e+00, -8.52207440e-01, -1.74137635e+00,\n",
              "         1.66004873e+00],\n",
              "       [-1.39222838e+00, -2.99849802e-01, -1.42531957e+00,\n",
              "         8.61404823e-02],\n",
              "       [ 1.33783032e+00,  8.83684116e-01,  4.99735314e-01,\n",
              "        -5.76038550e-01],\n",
              "       [ 4.42348151e-01, -9.22478740e-01, -1.75554107e+00,\n",
              "         1.04129026e+00],\n",
              "       [ 8.03693445e-01, -1.44304247e+00, -1.22208133e+00,\n",
              "        -7.54557609e-01],\n",
              "       [-1.51891535e+00, -7.13478375e-01,  1.06634285e-01,\n",
              "        -1.78701599e-01],\n",
              "       [ 1.68828413e+00, -1.15419048e+00,  5.96987928e-01,\n",
              "        -1.41342134e+00],\n",
              "       [ 1.22386509e+00,  1.48080835e+00,  4.60206988e-01,\n",
              "        -1.59530163e+00],\n",
              "       [-8.71091816e-01,  1.06393675e+00, -1.00471507e+00,\n",
              "         1.61482780e+00],\n",
              "       [-9.74180756e-01,  4.64857692e-01,  6.66464367e-01,\n",
              "         1.18100445e+00],\n",
              "       [-9.68844431e-01,  1.28112154e+00, -9.60256994e-01,\n",
              "         7.01501383e-01],\n",
              "       [-5.60606401e-01,  1.04868414e+00, -6.58325255e-01,\n",
              "        -2.81511195e-01],\n",
              "       [ 1.84378430e-01, -1.06727306e+00,  7.83989785e-01,\n",
              "        -1.08861305e+00],\n",
              "       [-1.29175520e-01,  1.35346506e+00,  4.52231933e-01,\n",
              "        -1.14634715e+00],\n",
              "       [-6.04569849e-01,  1.42333809e-01,  1.13586543e+00,\n",
              "        -8.25073615e-01],\n",
              "       [ 4.78625000e-01,  1.06160435e+00,  4.79564849e-01,\n",
              "         1.98909073e-01],\n",
              "       [-1.11719211e+00,  1.36557683e+00,  1.73681554e-01,\n",
              "         7.65278475e-01],\n",
              "       [-6.01476897e-01, -6.16606112e-01, -1.45202493e+00,\n",
              "         5.78970135e-01],\n",
              "       [-3.50741629e-01, -1.32964312e+00, -5.13384964e-01,\n",
              "        -7.23385590e-01],\n",
              "       [-4.76717693e-02, -9.25437858e-01, -8.64511968e-01,\n",
              "         1.58817152e+00],\n",
              "       [ 1.06417941e+00, -2.42502558e-01, -9.37169375e-01,\n",
              "         8.45081519e-01],\n",
              "       [-9.13880344e-01,  1.09786323e+00,  1.55985872e+00,\n",
              "         2.16469747e-01],\n",
              "       [ 1.48830942e-01,  1.24432984e+00, -4.26447305e-01,\n",
              "         4.12943628e-01],\n",
              "       [ 4.12954587e-01, -1.68315801e+00,  1.28254242e+00,\n",
              "        -2.45046123e-01],\n",
              "       [-1.43152996e+00,  4.42857298e-02,  3.88885713e-01,\n",
              "        -8.33676593e-01],\n",
              "       [ 4.64070714e-01, -2.75751490e-01,  9.49494151e-01,\n",
              "        -4.62962099e-01],\n",
              "       [-1.01235951e+00, -9.45419039e-01, -5.12552127e-02,\n",
              "         9.13405058e-01],\n",
              "       [-1.36868776e+00, -1.29599419e+00,  2.03121942e-01,\n",
              "        -1.63282888e+00],\n",
              "       [ 1.61725561e+00, -5.49360326e-01, -8.59159803e-02,\n",
              "        -1.28459027e+00],\n",
              "       [ 1.67383195e+00,  1.52611064e+00, -1.10413546e+00,\n",
              "        -1.52457141e+00],\n",
              "       [ 1.14263051e+00, -5.98777895e-01,  7.01650882e-01,\n",
              "        -1.54263367e+00],\n",
              "       [-5.59351237e-01,  7.18651552e-02, -8.11181928e-01,\n",
              "         1.24772264e+00],\n",
              "       [-1.25848264e+00,  7.03558561e-01, -1.68959134e+00,\n",
              "         7.27816952e-01],\n",
              "       [ 7.23153938e-01, -4.60160451e-01,  4.37981117e-01,\n",
              "        -5.81376732e-02],\n",
              "       [-1.01447397e-01,  1.62511002e+00, -1.16624189e+00,\n",
              "        -1.34705483e+00],\n",
              "       [-1.17616417e+00,  1.59310233e+00,  1.44836236e+00,\n",
              "         1.59919268e-03],\n",
              "       [ 8.44470152e-02, -8.43669347e-01,  1.49449951e+00,\n",
              "        -6.05421367e-02],\n",
              "       [-1.47227984e+00, -1.99977107e-03,  1.36069762e+00,\n",
              "        -1.08892968e+00],\n",
              "       [ 1.48358882e+00, -6.75325927e-01, -5.05017601e-01,\n",
              "        -1.96236188e-01],\n",
              "       [-7.14196042e-01, -7.30317371e-01, -1.71993621e+00,\n",
              "        -3.17295031e-01],\n",
              "       [ 6.49806396e-01, -1.58051568e+00,  1.40678059e+00,\n",
              "         4.27086151e-01],\n",
              "       [-5.35373705e-01,  3.83115619e-01, -3.06269976e-01,\n",
              "         4.92992957e-01],\n",
              "       [ 1.68539110e-01,  1.66207194e-02,  1.53808918e+00,\n",
              "        -1.52696414e+00],\n",
              "       [ 2.58547279e-01, -1.53048241e+00,  1.52769430e+00,\n",
              "        -3.99122607e-01],\n",
              "       [-9.63945937e-01, -7.51555841e-01,  1.14883332e+00,\n",
              "         4.61368548e-01],\n",
              "       [ 1.68718539e+00,  1.40732180e+00, -7.64337348e-01,\n",
              "         4.10550914e-02],\n",
              "       [ 1.03024969e+00, -8.85571420e-01, -4.53848734e-01,\n",
              "         1.25124772e+00],\n",
              "       [ 1.58554395e+00, -1.21017149e+00,  1.14241869e+00,\n",
              "         5.73819993e-01],\n",
              "       [ 1.43462551e+00, -2.87303011e-02, -6.87362882e-01,\n",
              "        -1.12409441e+00],\n",
              "       [ 4.31486489e-01,  1.67266274e+00, -1.19233468e+00,\n",
              "        -1.44043552e+00],\n",
              "       [ 1.52600067e+00, -8.77021963e-01,  1.34266836e-01,\n",
              "         5.18082331e-01],\n",
              "       [-1.28949503e+00,  5.97663628e-01,  1.43362103e+00,\n",
              "        -1.59132683e+00],\n",
              "       [-9.26349742e-01,  9.04492081e-01,  6.11149675e-01,\n",
              "         3.24084624e-01],\n",
              "       [-1.43566216e+00, -8.92169738e-01,  1.79684411e-01,\n",
              "         1.53804831e+00],\n",
              "       [-4.89362434e-01,  7.89956914e-01, -1.44003089e+00,\n",
              "         2.88803583e-01],\n",
              "       [-2.75351155e-01, -4.45918572e-01,  3.33632761e-01,\n",
              "        -3.52690480e-01],\n",
              "       [-6.71732780e-01,  4.61093056e-01,  1.61823509e+00,\n",
              "         5.21058344e-01],\n",
              "       [ 1.21134768e+00,  4.65289571e-01, -1.29306489e+00,\n",
              "        -1.12664933e-01],\n",
              "       [-3.83203028e-01,  1.30101148e-01,  2.49463289e-03,\n",
              "         1.86545693e-01],\n",
              "       [-6.39349214e-01, -1.39740481e+00,  1.23228310e+00,\n",
              "         1.54227655e+00],\n",
              "       [ 2.44985724e-01,  1.15714045e+00,  7.64388206e-01,\n",
              "        -3.59770689e-01],\n",
              "       [-1.11235977e+00, -6.07085570e-01,  6.14526712e-01,\n",
              "         1.60983484e+00],\n",
              "       [ 1.12168320e+00, -1.06744981e+00,  6.33256773e-01,\n",
              "         1.41858997e+00],\n",
              "       [-1.33659618e+00, -1.56718360e+00, -5.41555880e-01,\n",
              "        -1.01156422e+00],\n",
              "       [ 1.74563949e+00,  3.19094011e-01, -7.67272891e-01,\n",
              "        -1.44457087e+00],\n",
              "       [ 1.02049269e+00,  6.16278280e-01,  9.99330018e-01,\n",
              "        -1.33697253e+00],\n",
              "       [-9.17117190e-01, -1.65011854e+00,  1.00190657e+00,\n",
              "        -1.61971730e+00],\n",
              "       [-1.56980206e+00,  4.89001394e-02,  1.19700116e+00,\n",
              "        -1.35866927e+00],\n",
              "       [ 1.16649579e+00, -9.30373317e-01,  1.35513569e+00,\n",
              "         6.57089518e-01],\n",
              "       [ 7.99587900e-01,  5.05212076e-01, -2.14379705e-02,\n",
              "        -1.43831243e+00],\n",
              "       [ 8.74418836e-01, -1.10911761e+00, -5.50941494e-02,\n",
              "        -5.89672447e-01],\n",
              "       [ 1.01720070e+00,  6.62133732e-01,  9.61427053e-01,\n",
              "         1.21146938e+00],\n",
              "       [-1.33830562e+00, -3.80934061e-01,  4.53365777e-01,\n",
              "        -1.60242129e+00],\n",
              "       [-3.77417852e-01,  1.50492125e+00,  6.31485247e-01,\n",
              "         1.10732973e+00],\n",
              "       [-1.19700610e+00, -1.23545567e+00,  9.52855506e-01,\n",
              "        -7.16806819e-01],\n",
              "       [ 1.32744945e+00, -5.37526710e-01,  1.27555090e+00,\n",
              "        -1.27742479e+00],\n",
              "       [ 5.17291557e-01, -1.31791094e+00, -6.15183537e-01,\n",
              "         7.04114425e-01],\n",
              "       [-4.70552544e-01,  1.46365021e+00, -4.86438558e-01,\n",
              "         4.71927208e-01],\n",
              "       [-1.37373253e+00,  1.30127901e+00, -1.45097281e+00,\n",
              "         1.32310909e+00],\n",
              "       [-5.37835728e-01, -8.22549852e-01,  2.07835868e-01,\n",
              "         8.35403251e-01],\n",
              "       [-4.89859088e-01,  5.55997816e-01, -1.64976914e+00,\n",
              "         1.06969871e+00],\n",
              "       [ 8.76442531e-01,  1.09514563e+00, -1.78120724e-01,\n",
              "        -7.16191034e-01],\n",
              "       [ 5.65465307e-01,  1.96710644e-01,  8.57778326e-02,\n",
              "        -1.07441616e+00],\n",
              "       [ 1.40890033e+00,  1.09102440e-01, -7.91422441e-01,\n",
              "         8.88638542e-01],\n",
              "       [ 6.87227693e-03, -8.77717956e-01,  2.50832567e-01,\n",
              "         1.08118510e+00],\n",
              "       [-1.18442094e+00, -1.38775943e+00, -1.66840905e+00,\n",
              "         1.71023367e+00],\n",
              "       [ 8.21167230e-01,  1.36943244e+00, -1.64495362e+00,\n",
              "        -2.68959936e-01],\n",
              "       [ 9.81777183e-01,  1.38041268e+00,  1.04467737e+00,\n",
              "        -4.08008550e-01],\n",
              "       [ 3.07760135e-01,  4.63821149e-01, -5.39160000e-01,\n",
              "         9.76994240e-01],\n",
              "       [ 1.01617648e+00, -5.44509791e-01, -1.33767274e+00,\n",
              "        -5.14914536e-01],\n",
              "       [ 7.97803867e-02, -5.09604726e-01,  1.58994450e-02,\n",
              "         1.50560474e+00],\n",
              "       [ 1.77541895e-01,  7.82205392e-01,  8.64488880e-01,\n",
              "         1.25783346e+00],\n",
              "       [-1.44053988e-01,  1.36907070e+00, -1.03365196e+00,\n",
              "        -2.12872946e-01],\n",
              "       [-1.50258203e+00,  1.33470036e+00,  3.60634311e-01,\n",
              "         8.89516393e-01],\n",
              "       [-1.22395773e+00,  9.67089134e-01, -1.48054745e+00,\n",
              "         9.02091879e-01]])"
            ]
          },
          "metadata": {},
          "execution_count": 20
        }
      ]
    },
    {
      "cell_type": "code",
      "source": [
        "# split a data into trainig and testing\n",
        "from sklearn.model_selection import train_test_split\n",
        "xtrain,xtest,ytrain,ytest= train_test_split(x,y,test_size=0.20,random_state=42)"
      ],
      "metadata": {
        "id": "HPJ3j9V7m-p0"
      },
      "execution_count": 21,
      "outputs": []
    },
    {
      "cell_type": "code",
      "source": [
        "# lets build ANN model\n",
        "\n",
        "# init a model\n",
        "ann = Sequential()\n",
        "\n",
        "# create and add Hidden layer\n",
        "ann.add(Dense(units=8, activation=\"relu\"))  #HL\n",
        "ann.add(Dense(units=16, activation=\"relu\"))  #HL\n",
        "\n",
        "#lets create op layer\n",
        "ann.add(Dense(units=1, activation=\"sigmoid\"))  #op  # for multiclassification keep softmax as\n",
        "\n",
        "#for binary classification keep units to 1\n",
        "#for example if output column has two unique values -: YES ,NO then keep units =1\n",
        "\n",
        "# for multiclassification keep units to number of unique values in output column\n",
        "# for example if output column has three unique values -: YES ,NO, MAYBE then keep the units =3"
      ],
      "metadata": {
        "id": "TfK-jLainmrM"
      },
      "execution_count": 22,
      "outputs": []
    },
    {
      "cell_type": "code",
      "source": [
        "# writing code for optimization\n",
        "ann.compile(\"adam\",loss='binary_crossentropy',metrics=['accuracy'])\n",
        "\n",
        "# adam is the optimiser used in the algo a\n",
        "\n",
        "# keep loss to \"sparse_categorical_crossentropy\" for multi classification if it geenrates\n",
        "#error then keep categorical_crossentropy"
      ],
      "metadata": {
        "id": "4RwcYlFIpBac"
      },
      "execution_count": 23,
      "outputs": []
    },
    {
      "cell_type": "code",
      "source": [
        "#train a model\n",
        "ann.fit(xtrain,ytrain,epochs=20, batch_size=32)\n",
        "\n",
        "# batchsize is the no of the data sent in a go to the ann (model)"
      ],
      "metadata": {
        "colab": {
          "base_uri": "https://localhost:8080/"
        },
        "id": "SjbgoU5hpaV4",
        "outputId": "a1386c4c-692a-404b-8dbc-1a662f82ea4a"
      },
      "execution_count": 24,
      "outputs": [
        {
          "output_type": "stream",
          "name": "stdout",
          "text": [
            "Epoch 1/20\n",
            "\u001b[1m3/3\u001b[0m \u001b[32m━━━━━━━━━━━━━━━━━━━━\u001b[0m\u001b[37m\u001b[0m \u001b[1m2s\u001b[0m 14ms/step - accuracy: 0.8430 - loss: 0.5589\n",
            "Epoch 2/20\n",
            "\u001b[1m3/3\u001b[0m \u001b[32m━━━━━━━━━━━━━━━━━━━━\u001b[0m\u001b[37m\u001b[0m \u001b[1m0s\u001b[0m 14ms/step - accuracy: 0.8391 - loss: 0.5511\n",
            "Epoch 3/20\n",
            "\u001b[1m3/3\u001b[0m \u001b[32m━━━━━━━━━━━━━━━━━━━━\u001b[0m\u001b[37m\u001b[0m \u001b[1m0s\u001b[0m 13ms/step - accuracy: 0.8352 - loss: 0.5469\n",
            "Epoch 4/20\n",
            "\u001b[1m3/3\u001b[0m \u001b[32m━━━━━━━━━━━━━━━━━━━━\u001b[0m\u001b[37m\u001b[0m \u001b[1m0s\u001b[0m 14ms/step - accuracy: 0.8430 - loss: 0.5228\n",
            "Epoch 5/20\n",
            "\u001b[1m3/3\u001b[0m \u001b[32m━━━━━━━━━━━━━━━━━━━━\u001b[0m\u001b[37m\u001b[0m \u001b[1m0s\u001b[0m 14ms/step - accuracy: 0.8430 - loss: 0.5137\n",
            "Epoch 6/20\n",
            "\u001b[1m3/3\u001b[0m \u001b[32m━━━━━━━━━━━━━━━━━━━━\u001b[0m\u001b[37m\u001b[0m \u001b[1m0s\u001b[0m 14ms/step - accuracy: 0.8273 - loss: 0.5120\n",
            "Epoch 7/20\n",
            "\u001b[1m3/3\u001b[0m \u001b[32m━━━━━━━━━━━━━━━━━━━━\u001b[0m\u001b[37m\u001b[0m \u001b[1m0s\u001b[0m 14ms/step - accuracy: 0.8547 - loss: 0.4888\n",
            "Epoch 8/20\n",
            "\u001b[1m3/3\u001b[0m \u001b[32m━━━━━━━━━━━━━━━━━━━━\u001b[0m\u001b[37m\u001b[0m \u001b[1m0s\u001b[0m 14ms/step - accuracy: 0.8547 - loss: 0.4772\n",
            "Epoch 9/20\n",
            "\u001b[1m3/3\u001b[0m \u001b[32m━━━━━━━━━━━━━━━━━━━━\u001b[0m\u001b[37m\u001b[0m \u001b[1m0s\u001b[0m 16ms/step - accuracy: 0.8352 - loss: 0.4833 \n",
            "Epoch 10/20\n",
            "\u001b[1m3/3\u001b[0m \u001b[32m━━━━━━━━━━━━━━━━━━━━\u001b[0m\u001b[37m\u001b[0m \u001b[1m0s\u001b[0m 14ms/step - accuracy: 0.8586 - loss: 0.4650\n",
            "Epoch 11/20\n",
            "\u001b[1m3/3\u001b[0m \u001b[32m━━━━━━━━━━━━━━━━━━━━\u001b[0m\u001b[37m\u001b[0m \u001b[1m0s\u001b[0m 14ms/step - accuracy: 0.8547 - loss: 0.4618\n",
            "Epoch 12/20\n",
            "\u001b[1m3/3\u001b[0m \u001b[32m━━━━━━━━━━━━━━━━━━━━\u001b[0m\u001b[37m\u001b[0m \u001b[1m0s\u001b[0m 14ms/step - accuracy: 0.8703 - loss: 0.4262\n",
            "Epoch 13/20\n",
            "\u001b[1m3/3\u001b[0m \u001b[32m━━━━━━━━━━━━━━━━━━━━\u001b[0m\u001b[37m\u001b[0m \u001b[1m0s\u001b[0m 14ms/step - accuracy: 0.8781 - loss: 0.4212\n",
            "Epoch 14/20\n",
            "\u001b[1m3/3\u001b[0m \u001b[32m━━━━━━━━━━━━━━━━━━━━\u001b[0m\u001b[37m\u001b[0m \u001b[1m0s\u001b[0m 16ms/step - accuracy: 0.8273 - loss: 0.4479\n",
            "Epoch 15/20\n",
            "\u001b[1m3/3\u001b[0m \u001b[32m━━━━━━━━━━━━━━━━━━━━\u001b[0m\u001b[37m\u001b[0m \u001b[1m0s\u001b[0m 15ms/step - accuracy: 0.8273 - loss: 0.4429 \n",
            "Epoch 16/20\n",
            "\u001b[1m3/3\u001b[0m \u001b[32m━━━━━━━━━━━━━━━━━━━━\u001b[0m\u001b[37m\u001b[0m \u001b[1m0s\u001b[0m 14ms/step - accuracy: 0.8508 - loss: 0.4212\n",
            "Epoch 17/20\n",
            "\u001b[1m3/3\u001b[0m \u001b[32m━━━━━━━━━━━━━━━━━━━━\u001b[0m\u001b[37m\u001b[0m \u001b[1m0s\u001b[0m 14ms/step - accuracy: 0.8430 - loss: 0.4156\n",
            "Epoch 18/20\n",
            "\u001b[1m3/3\u001b[0m \u001b[32m━━━━━━━━━━━━━━━━━━━━\u001b[0m\u001b[37m\u001b[0m \u001b[1m0s\u001b[0m 14ms/step - accuracy: 0.8352 - loss: 0.4228\n",
            "Epoch 19/20\n",
            "\u001b[1m3/3\u001b[0m \u001b[32m━━━━━━━━━━━━━━━━━━━━\u001b[0m\u001b[37m\u001b[0m \u001b[1m0s\u001b[0m 14ms/step - accuracy: 0.8586 - loss: 0.3847\n",
            "Epoch 20/20\n",
            "\u001b[1m3/3\u001b[0m \u001b[32m━━━━━━━━━━━━━━━━━━━━\u001b[0m\u001b[37m\u001b[0m \u001b[1m0s\u001b[0m 15ms/step - accuracy: 0.8352 - loss: 0.4232\n"
          ]
        },
        {
          "output_type": "execute_result",
          "data": {
            "text/plain": [
              "<keras.src.callbacks.history.History at 0x7b78812e44d0>"
            ]
          },
          "metadata": {},
          "execution_count": 24
        }
      ]
    },
    {
      "cell_type": "code",
      "source": [
        "# predicting xtest but ans wont be mentioned in 0 and 1. ouput of this code\n",
        "# will be the ans produced by sigmoid function.\n",
        "# we need to setup threshold later on.\n",
        "\n",
        "# this op is the probabilty given by the model known as logits that are raw op\n",
        "ypred=ann.predict(xtest)\n",
        "ypred\n",
        "\n",
        "\n",
        "# we can use argmax function in the multiclass function which will give the  max probability from the given probability"
      ],
      "metadata": {
        "colab": {
          "base_uri": "https://localhost:8080/"
        },
        "id": "Ii4sTLgkrCOZ",
        "outputId": "c35dc329-1809-43b8-d3eb-70f694c4b1ff"
      },
      "execution_count": 25,
      "outputs": [
        {
          "output_type": "stream",
          "name": "stdout",
          "text": [
            "\u001b[1m1/1\u001b[0m \u001b[32m━━━━━━━━━━━━━━━━━━━━\u001b[0m\u001b[37m\u001b[0m \u001b[1m0s\u001b[0m 81ms/step\n"
          ]
        },
        {
          "output_type": "execute_result",
          "data": {
            "text/plain": [
              "array([[0.09939207],\n",
              "       [0.15183504],\n",
              "       [0.2060778 ],\n",
              "       [0.34357375],\n",
              "       [0.10952868],\n",
              "       [0.18790798],\n",
              "       [0.1069722 ],\n",
              "       [0.25275677],\n",
              "       [0.16141352],\n",
              "       [0.36010095],\n",
              "       [0.23404184],\n",
              "       [0.37314305],\n",
              "       [0.35562047],\n",
              "       [0.17229271],\n",
              "       [0.03085402],\n",
              "       [0.29852495],\n",
              "       [0.36317775],\n",
              "       [0.3666534 ],\n",
              "       [0.1347449 ],\n",
              "       [0.14187382]], dtype=float32)"
            ]
          },
          "metadata": {},
          "execution_count": 25
        }
      ]
    },
    {
      "cell_type": "code",
      "source": [
        "# setting up threshold to classify it into 0 and 1\n",
        "final_pred=np.where(ypred>0.5,1,0)\n",
        "final_pred"
      ],
      "metadata": {
        "colab": {
          "base_uri": "https://localhost:8080/"
        },
        "id": "OyRYw8F9rklj",
        "outputId": "8049d926-e5a7-4c6d-a73a-ec9f41192def"
      },
      "execution_count": 26,
      "outputs": [
        {
          "output_type": "execute_result",
          "data": {
            "text/plain": [
              "array([[0],\n",
              "       [0],\n",
              "       [0],\n",
              "       [0],\n",
              "       [0],\n",
              "       [0],\n",
              "       [0],\n",
              "       [0],\n",
              "       [0],\n",
              "       [0],\n",
              "       [0],\n",
              "       [0],\n",
              "       [0],\n",
              "       [0],\n",
              "       [0],\n",
              "       [0],\n",
              "       [0],\n",
              "       [0],\n",
              "       [0],\n",
              "       [0]])"
            ]
          },
          "metadata": {},
          "execution_count": 26
        }
      ]
    },
    {
      "cell_type": "code",
      "source": [
        "# predicting user defined data\n",
        "ann.predict(np.array([[306.197880,382.920383,0.161629,2.932858]]))"
      ],
      "metadata": {
        "colab": {
          "base_uri": "https://localhost:8080/"
        },
        "id": "qpTvw1rEpn_2",
        "outputId": "22ae776f-5c1e-4ae4-8f0b-547924c4ccc2"
      },
      "execution_count": 27,
      "outputs": [
        {
          "output_type": "stream",
          "name": "stdout",
          "text": [
            "\u001b[1m1/1\u001b[0m \u001b[32m━━━━━━━━━━━━━━━━━━━━\u001b[0m\u001b[37m\u001b[0m \u001b[1m0s\u001b[0m 76ms/step\n"
          ]
        },
        {
          "output_type": "execute_result",
          "data": {
            "text/plain": [
              "array([[0.]], dtype=float32)"
            ]
          },
          "metadata": {},
          "execution_count": 27
        }
      ]
    },
    {
      "cell_type": "code",
      "source": [
        "\n",
        "\n",
        "# Training history\n",
        "history = ann.fit(xtrain, ytrain, epochs=20, batch_size=32, validation_data=(xtest, ytest))\n",
        "\n",
        "\n"
      ],
      "metadata": {
        "colab": {
          "base_uri": "https://localhost:8080/"
        },
        "id": "GdUGPg4Tq4mJ",
        "outputId": "349c31c7-c31b-42ee-930d-68dc7491d6ae"
      },
      "execution_count": 28,
      "outputs": [
        {
          "output_type": "stream",
          "name": "stdout",
          "text": [
            "Epoch 1/20\n",
            "\u001b[1m3/3\u001b[0m \u001b[32m━━━━━━━━━━━━━━━━━━━━\u001b[0m\u001b[37m\u001b[0m \u001b[1m0s\u001b[0m 130ms/step - accuracy: 0.8313 - loss: 0.4023 - val_accuracy: 0.8500 - val_loss: 0.3950\n",
            "Epoch 2/20\n",
            "\u001b[1m3/3\u001b[0m \u001b[32m━━━━━━━━━━━━━━━━━━━━\u001b[0m\u001b[37m\u001b[0m \u001b[1m0s\u001b[0m 36ms/step - accuracy: 0.8469 - loss: 0.3845 - val_accuracy: 0.8500 - val_loss: 0.3905\n",
            "Epoch 3/20\n",
            "\u001b[1m3/3\u001b[0m \u001b[32m━━━━━━━━━━━━━━━━━━━━\u001b[0m\u001b[37m\u001b[0m \u001b[1m0s\u001b[0m 35ms/step - accuracy: 0.8273 - loss: 0.3852 - val_accuracy: 0.8500 - val_loss: 0.3862\n",
            "Epoch 4/20\n",
            "\u001b[1m3/3\u001b[0m \u001b[32m━━━━━━━━━━━━━━━━━━━━\u001b[0m\u001b[37m\u001b[0m \u001b[1m0s\u001b[0m 37ms/step - accuracy: 0.8664 - loss: 0.3603 - val_accuracy: 0.8500 - val_loss: 0.3820\n",
            "Epoch 5/20\n",
            "\u001b[1m3/3\u001b[0m \u001b[32m━━━━━━━━━━━━━━━━━━━━\u001b[0m\u001b[37m\u001b[0m \u001b[1m0s\u001b[0m 55ms/step - accuracy: 0.8352 - loss: 0.3809 - val_accuracy: 0.8500 - val_loss: 0.3781\n",
            "Epoch 6/20\n",
            "\u001b[1m3/3\u001b[0m \u001b[32m━━━━━━━━━━━━━━━━━━━━\u001b[0m\u001b[37m\u001b[0m \u001b[1m0s\u001b[0m 36ms/step - accuracy: 0.8586 - loss: 0.3599 - val_accuracy: 0.8500 - val_loss: 0.3742\n",
            "Epoch 7/20\n",
            "\u001b[1m3/3\u001b[0m \u001b[32m━━━━━━━━━━━━━━━━━━━━\u001b[0m\u001b[37m\u001b[0m \u001b[1m0s\u001b[0m 35ms/step - accuracy: 0.8664 - loss: 0.3372 - val_accuracy: 0.8500 - val_loss: 0.3703\n",
            "Epoch 8/20\n",
            "\u001b[1m3/3\u001b[0m \u001b[32m━━━━━━━━━━━━━━━━━━━━\u001b[0m\u001b[37m\u001b[0m \u001b[1m0s\u001b[0m 35ms/step - accuracy: 0.8547 - loss: 0.3459 - val_accuracy: 0.8500 - val_loss: 0.3666\n",
            "Epoch 9/20\n",
            "\u001b[1m3/3\u001b[0m \u001b[32m━━━━━━━━━━━━━━━━━━━━\u001b[0m\u001b[37m\u001b[0m \u001b[1m0s\u001b[0m 34ms/step - accuracy: 0.8430 - loss: 0.3509 - val_accuracy: 0.8500 - val_loss: 0.3632\n",
            "Epoch 10/20\n",
            "\u001b[1m3/3\u001b[0m \u001b[32m━━━━━━━━━━━━━━━━━━━━\u001b[0m\u001b[37m\u001b[0m \u001b[1m0s\u001b[0m 35ms/step - accuracy: 0.8781 - loss: 0.3187 - val_accuracy: 0.8500 - val_loss: 0.3596\n",
            "Epoch 11/20\n",
            "\u001b[1m3/3\u001b[0m \u001b[32m━━━━━━━━━━━━━━━━━━━━\u001b[0m\u001b[37m\u001b[0m \u001b[1m0s\u001b[0m 35ms/step - accuracy: 0.8508 - loss: 0.3456 - val_accuracy: 0.8500 - val_loss: 0.3563\n",
            "Epoch 12/20\n",
            "\u001b[1m3/3\u001b[0m \u001b[32m━━━━━━━━━━━━━━━━━━━━\u001b[0m\u001b[37m\u001b[0m \u001b[1m0s\u001b[0m 35ms/step - accuracy: 0.8273 - loss: 0.3510 - val_accuracy: 0.8500 - val_loss: 0.3531\n",
            "Epoch 13/20\n",
            "\u001b[1m3/3\u001b[0m \u001b[32m━━━━━━━━━━━━━━━━━━━━\u001b[0m\u001b[37m\u001b[0m \u001b[1m0s\u001b[0m 35ms/step - accuracy: 0.8508 - loss: 0.3269 - val_accuracy: 0.8500 - val_loss: 0.3500\n",
            "Epoch 14/20\n",
            "\u001b[1m3/3\u001b[0m \u001b[32m━━━━━━━━━━━━━━━━━━━━\u001b[0m\u001b[37m\u001b[0m \u001b[1m0s\u001b[0m 35ms/step - accuracy: 0.8430 - loss: 0.3228 - val_accuracy: 0.8500 - val_loss: 0.3470\n",
            "Epoch 15/20\n",
            "\u001b[1m3/3\u001b[0m \u001b[32m━━━━━━━━━━━━━━━━━━━━\u001b[0m\u001b[37m\u001b[0m \u001b[1m0s\u001b[0m 33ms/step - accuracy: 0.8469 - loss: 0.3242 - val_accuracy: 0.8500 - val_loss: 0.3441\n",
            "Epoch 16/20\n",
            "\u001b[1m3/3\u001b[0m \u001b[32m━━━━━━━━━━━━━━━━━━━━\u001b[0m\u001b[37m\u001b[0m \u001b[1m0s\u001b[0m 55ms/step - accuracy: 0.8625 - loss: 0.3047 - val_accuracy: 0.8500 - val_loss: 0.3413\n",
            "Epoch 17/20\n",
            "\u001b[1m3/3\u001b[0m \u001b[32m━━━━━━━━━━━━━━━━━━━━\u001b[0m\u001b[37m\u001b[0m \u001b[1m0s\u001b[0m 34ms/step - accuracy: 0.8703 - loss: 0.2951 - val_accuracy: 0.8500 - val_loss: 0.3386\n",
            "Epoch 18/20\n",
            "\u001b[1m3/3\u001b[0m \u001b[32m━━━━━━━━━━━━━━━━━━━━\u001b[0m\u001b[37m\u001b[0m \u001b[1m0s\u001b[0m 34ms/step - accuracy: 0.8586 - loss: 0.2974 - val_accuracy: 0.8500 - val_loss: 0.3361\n",
            "Epoch 19/20\n",
            "\u001b[1m3/3\u001b[0m \u001b[32m━━━━━━━━━━━━━━━━━━━━\u001b[0m\u001b[37m\u001b[0m \u001b[1m0s\u001b[0m 34ms/step - accuracy: 0.8547 - loss: 0.2997 - val_accuracy: 0.8500 - val_loss: 0.3336\n",
            "Epoch 20/20\n",
            "\u001b[1m3/3\u001b[0m \u001b[32m━━━━━━━━━━━━━━━━━━━━\u001b[0m\u001b[37m\u001b[0m \u001b[1m0s\u001b[0m 35ms/step - accuracy: 0.8547 - loss: 0.3064 - val_accuracy: 0.8500 - val_loss: 0.3311\n"
          ]
        }
      ]
    },
    {
      "cell_type": "code",
      "source": [
        "# Plot training & validation loss values\n",
        "plt.figure(figsize=(10, 5))\n",
        "plt.plot(history.history['loss'])   #training loss\n",
        "plt.plot(history.history['val_loss']) #validation\n",
        "plt.title('Model loss')\n",
        "plt.ylabel('Loss')\n",
        "plt.xlabel('Epoch')\n",
        "plt.legend(['Train', 'Test'], loc='upper left')\n",
        "plt.show()"
      ],
      "metadata": {
        "colab": {
          "base_uri": "https://localhost:8080/",
          "height": 487
        },
        "id": "N3ZlD2zKueSi",
        "outputId": "8a214077-0ae0-442b-a713-4138b9cc6539"
      },
      "execution_count": 29,
      "outputs": [
        {
          "output_type": "display_data",
          "data": {
            "text/plain": [
              "<Figure size 1000x500 with 1 Axes>"
            ],
            "image/png": "[encoded data removed]"
          },
          "metadata": {}
        }
      ]
    },
    {
      "cell_type": "code",
      "source": [
        "ypred[0]"
      ],
      "metadata": {
        "id": "GRQQOgO5uiL3",
        "colab": {
          "base_uri": "https://localhost:8080/"
        },
        "outputId": "e43a4479-042a-4733-b13e-dc2a6fe359ed"
      },
      "execution_count": 30,
      "outputs": [
        {
          "output_type": "execute_result",
          "data": {
            "text/plain": [
              "array([0.09939207], dtype=float32)"
            ]
          },
          "metadata": {},
          "execution_count": 30
        }
      ]
    },
    {
      "cell_type": "code",
      "source": [
        "final_ypred = np.argmax(ypred, axis=1)\n",
        "final_pred\n"
      ],
      "metadata": {
        "id": "4WXHdp85b5MF",
        "colab": {
          "base_uri": "https://localhost:8080/"
        },
        "outputId": "0ebe2421-ea85-48eb-bc6d-83583d596204"
      },
      "execution_count": 31,
      "outputs": [
        {
          "output_type": "execute_result",
          "data": {
            "text/plain": [
              "array([[0],\n",
              "       [0],\n",
              "       [0],\n",
              "       [0],\n",
              "       [0],\n",
              "       [0],\n",
              "       [0],\n",
              "       [0],\n",
              "       [0],\n",
              "       [0],\n",
              "       [0],\n",
              "       [0],\n",
              "       [0],\n",
              "       [0],\n",
              "       [0],\n",
              "       [0],\n",
              "       [0],\n",
              "       [0],\n",
              "       [0],\n",
              "       [0]])"
            ]
          },
          "metadata": {},
          "execution_count": 31
        }
      ]
    }
  ]
}