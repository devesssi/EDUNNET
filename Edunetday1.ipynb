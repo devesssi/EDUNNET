{
  "nbformat": 4,
  "nbformat_minor": 0,
  "metadata": {
    "colab": {
      "provenance": [],
      "toc_visible": true,
      "authorship_tag": "ABX9TyNprOAxg7ODFILjBXGOipvk",
      "include_colab_link": true
    },
    "kernelspec": {
      "name": "python3",
      "display_name": "Python 3"
    },
    "language_info": {
      "name": "python"
    }
  },
  "cells": [
    {
      "cell_type": "markdown",
      "metadata": {
        "id": "view-in-github",
        "colab_type": "text"
      },
      "source": [
        "<a href=\"https://colab.research.google.com/github/devesssi/EDUNNET/blob/main/Edunetday1.ipynb\" target=\"_parent\"><img src=\"https://colab.research.google.com/assets/colab-badge.svg\" alt=\"Open In Colab\"/></a>"
      ]
    },
    {
      "cell_type": "markdown",
      "source": [
        "# PYTHON BASICS"
      ],
      "metadata": {
        "id": "f4z7VS2KNdxu"
      }
    },
    {
      "cell_type": "code",
      "execution_count": null,
      "metadata": {
        "colab": {
          "base_uri": "https://localhost:8080/"
        },
        "id": "V9KEzS-qW5sm",
        "outputId": "1603e2a2-a3b2-46c5-f847-bdcf6f7fdcb5"
      },
      "outputs": [
        {
          "output_type": "stream",
          "name": "stdout",
          "text": [
            "yes\n"
          ]
        }
      ],
      "source": [
        "if 100: #Any non zero value is consider as true in python\n",
        "  print(\"yes\")\n",
        "else:\n",
        "  print(\"no\")"
      ]
    },
    {
      "cell_type": "code",
      "source": [
        "if [100,222,300]: #Any nonempty collection is consider as true\n",
        "  print(\"yes\")\n",
        "else:\n",
        "  print(\"no\")"
      ],
      "metadata": {
        "colab": {
          "base_uri": "https://localhost:8080/"
        },
        "id": "kEIi1H4aZf8c",
        "outputId": "481ed4fa-c84d-4ecf-da0e-4df47185ea6e"
      },
      "execution_count": null,
      "outputs": [
        {
          "output_type": "stream",
          "name": "stdout",
          "text": [
            "yes\n"
          ]
        }
      ]
    },
    {
      "cell_type": "code",
      "source": [
        "#range excludes the last value\n",
        "for i in range(1, 10):\n",
        "  print(i)"
      ],
      "metadata": {
        "colab": {
          "base_uri": "https://localhost:8080/"
        },
        "id": "q4fdoKfWbNPd",
        "outputId": "88bcf971-77fe-4d96-f920-93339ccdbeda"
      },
      "execution_count": null,
      "outputs": [
        {
          "output_type": "stream",
          "name": "stdout",
          "text": [
            "1\n",
            "2\n",
            "3\n",
            "4\n",
            "5\n",
            "6\n",
            "7\n",
            "8\n",
            "9\n"
          ]
        }
      ]
    },
    {
      "cell_type": "code",
      "source": [
        "#range has 3rd param known as step\n",
        "for i in range(1, 10, 2 ):\n",
        "  print(i)"
      ],
      "metadata": {
        "colab": {
          "base_uri": "https://localhost:8080/"
        },
        "id": "wH1Rrpo9bNR9",
        "outputId": "c6935c61-3876-4884-8639-8695a04e30a5"
      },
      "execution_count": null,
      "outputs": [
        {
          "output_type": "stream",
          "name": "stdout",
          "text": [
            "1\n",
            "3\n",
            "5\n",
            "7\n",
            "9\n"
          ]
        }
      ]
    },
    {
      "cell_type": "code",
      "source": [
        "# this will default print nothing coz the expression is false is inside\n",
        "for i in range(10,1):\n",
        "  print(i)"
      ],
      "metadata": {
        "id": "M51NiKaGbNVA"
      },
      "execution_count": null,
      "outputs": []
    },
    {
      "cell_type": "code",
      "source": [
        "# if we use the step inside to \"-1\" the range it will print the values\n",
        "for i in range(10,1,-1):\n",
        "  print(i)"
      ],
      "metadata": {
        "colab": {
          "base_uri": "https://localhost:8080/"
        },
        "id": "ySM9WmPcbNYb",
        "outputId": "ccd409eb-c1bf-4358-db78-aef68ec6becd"
      },
      "execution_count": null,
      "outputs": [
        {
          "output_type": "stream",
          "name": "stdout",
          "text": [
            "10\n",
            "9\n",
            "8\n",
            "7\n",
            "6\n",
            "5\n",
            "4\n",
            "3\n",
            "2\n"
          ]
        }
      ]
    },
    {
      "cell_type": "markdown",
      "source": [
        "# COLLECTIONS"
      ],
      "metadata": {
        "id": "i3mw_Pl3oLN-"
      }
    },
    {
      "cell_type": "code",
      "source": [
        "# collection in python\n",
        "\n",
        "#list: it is ordered datatype --> indexing and slicing is possible init, it is heterogenous collection of datatypes\n",
        "TEMP = [100,200,\"ADFA\",300]\n",
        "print(TEMP[1])# indexing gives only one op\n",
        "print(TEMP[2:5])# this is slicing give more than one op\n",
        "print(TEMP)"
      ],
      "metadata": {
        "colab": {
          "base_uri": "https://localhost:8080/"
        },
        "id": "8zidHxIReSMh",
        "outputId": "7b6e67e5-8738-4e24-cc11-5d5d04732d12"
      },
      "execution_count": null,
      "outputs": [
        {
          "output_type": "stream",
          "name": "stdout",
          "text": [
            "200\n",
            "['ADFA', 300]\n",
            "[100, 200, 'ADFA', 300]\n"
          ]
        }
      ]
    },
    {
      "cell_type": "markdown",
      "source": [
        "[\"hello\"]\n",
        "\n",
        "🧠 Why Does This Happen?\n",
        "In Python, the print(my_list) calls str() on the list, which in turn calls repr() on each item.\n",
        "The repr() of a string always uses single quotes, unless the string contains single quotes, in which case it uses double quotes to avoid escaping."
      ],
      "metadata": {
        "id": "5pZuyWFHkfLH"
      }
    },
    {
      "cell_type": "code",
      "source": [
        "# functions in lists\n",
        "#append--> insert the new obj at the end of the list\n",
        "TEMP.append(400)\n",
        "print(TEMP)\n",
        "\n",
        "#Now to insert the obj at the certain index we have .insert(index, obj)\n",
        "TEMP.insert(2, 500)\n",
        "print(TEMP)\n",
        "\n",
        "#to remove the obj(value) in the list .remove(obj) --> it will remove the first occurence of  if there's same multiple obj eg: 400 is 2x in the list\n",
        "#note it only takes the obj to remove\n",
        "TEMP.remove(400)\n",
        "print(TEMP)"
      ],
      "metadata": {
        "colab": {
          "base_uri": "https://localhost:8080/"
        },
        "id": "2L-fZGAieSQE",
        "outputId": "718d36a3-15cb-49f1-8bdd-d303584dd5aa"
      },
      "execution_count": null,
      "outputs": [
        {
          "output_type": "stream",
          "name": "stdout",
          "text": [
            "[100, 200, 'ADFA', 300, 400]\n",
            "[100, 200, 500, 'ADFA', 300, 400]\n",
            "[100, 200, 500, 'ADFA', 300]\n"
          ]
        }
      ]
    },
    {
      "cell_type": "markdown",
      "source": [
        "we cannot remove multiple items from the list from the list\n",
        "coz if 0th postn is removed the next elem will be at 0th posn and hence it cannot remove with this issue\n",
        "\n",
        "** SOLVE IT?**"
      ],
      "metadata": {
        "id": "J4qiDaYcnQaA"
      }
    },
    {
      "cell_type": "code",
      "source": [
        "# now .pop(index) --> this takes the index you want to remove from the list\n",
        "TEMP.pop(2)\n",
        "print(TEMP)\n",
        "#there is .clear()"
      ],
      "metadata": {
        "colab": {
          "base_uri": "https://localhost:8080/"
        },
        "id": "XnbLesgpeSTf",
        "outputId": "a8cda144-49d9-41c5-b75e-d661c16cd9be"
      },
      "execution_count": null,
      "outputs": [
        {
          "output_type": "stream",
          "name": "stdout",
          "text": [
            "[100, 200, 'ADFA', 300]\n"
          ]
        }
      ]
    },
    {
      "cell_type": "code",
      "source": [
        "# EXtEND function .extend(input list) you want to add\n",
        "TEMP.extend([1,2])\n",
        "print(TEMP)"
      ],
      "metadata": {
        "colab": {
          "base_uri": "https://localhost:8080/"
        },
        "id": "vA-OMeolrCH-",
        "outputId": "84a74b6a-9c46-4610-f88c-04983ac53c2b"
      },
      "execution_count": null,
      "outputs": [
        {
          "output_type": "stream",
          "name": "stdout",
          "text": [
            "[100, 200, 'ADFA', 300, 1, 2]\n"
          ]
        }
      ]
    },
    {
      "cell_type": "markdown",
      "source": [
        "my_list = [1, 2, 3, 4, 5]\n",
        "print(\"Original list:\", my_list)\n",
        "\n",
        "my_list.clear()\n",
        "print(\"Cleared list:\", my_list)\n",
        "\n",
        "\n",
        "op:\n",
        "Original list: [1, 2, 3, 4, 5]\n",
        "Cleared list: []"
      ],
      "metadata": {
        "id": "mTd5xe9Gmyrr"
      }
    },
    {
      "cell_type": "code",
      "source": [
        "# we can modify the elem in the list by assign the indexed\n",
        "TEMP[0] = 1000\n",
        "print(TEMP)"
      ],
      "metadata": {
        "colab": {
          "base_uri": "https://localhost:8080/"
        },
        "id": "YKXdcWsaeSWd",
        "outputId": "aa60a039-4569-4a06-9cf7-055e4138c24e"
      },
      "execution_count": null,
      "outputs": [
        {
          "output_type": "stream",
          "name": "stdout",
          "text": [
            "[1000, 200, 'ADFA', 300, 1, 2]\n"
          ]
        }
      ]
    },
    {
      "cell_type": "code",
      "source": [
        "#count function\n",
        "TEMP.count(1000)"
      ],
      "metadata": {
        "colab": {
          "base_uri": "https://localhost:8080/"
        },
        "id": "TmX0H5SreSZQ",
        "outputId": "74387da0-3942-4dac-d635-b6753b8954cb"
      },
      "execution_count": null,
      "outputs": [
        {
          "output_type": "execute_result",
          "data": {
            "text/plain": [
              "1"
            ]
          },
          "metadata": {},
          "execution_count": 61
        }
      ]
    },
    {
      "cell_type": "code",
      "source": [
        "# TEMP.index(100)--> will give an err if not present\n",
        "TEMP.index(1)"
      ],
      "metadata": {
        "colab": {
          "base_uri": "https://localhost:8080/"
        },
        "id": "FzpgshMXr_zQ",
        "outputId": "2fe09127-6420-44fd-9394-6c6940fadeef"
      },
      "execution_count": null,
      "outputs": [
        {
          "output_type": "execute_result",
          "data": {
            "text/plain": [
              "4"
            ]
          },
          "metadata": {},
          "execution_count": 62
        }
      ]
    },
    {
      "cell_type": "markdown",
      "source": [
        "# diff between list vs tuple?\n",
        "\n",
        "Use a list when you need a mutable, flexible collection of items, possibly with different types.\n",
        "Use a tuple when you need an immutable collection, often for data integrity or fixed records.\n",
        "Use an array (from array module or libraries like NumPy) when dealing with large sequences of numeric data for better performance and efficiency.\n",
        "For numerical computing, especially with large datasets, NumPy arrays are even more powerful and widely used."
      ],
      "metadata": {
        "id": "v6Y1ARKPo8la"
      }
    },
    {
      "cell_type": "markdown",
      "source": [
        "# TUPLES IN COLLECTION"
      ],
      "metadata": {
        "id": "151e-Gl5oDuB"
      }
    },
    {
      "cell_type": "code",
      "source": [
        "# all the functions in the list that are not changing the tuple  eg: remove etc can be used in the tuple\n",
        "t1 = (100,200,300,\"dev\")\n",
        "print(t1)"
      ],
      "metadata": {
        "colab": {
          "base_uri": "https://localhost:8080/"
        },
        "id": "BeqNX4fbeScD",
        "outputId": "7a7174c2-6a72-434c-978f-c458cbe9c4f5"
      },
      "execution_count": null,
      "outputs": [
        {
          "output_type": "stream",
          "name": "stdout",
          "text": [
            "(100, 200, 300, 'dev')\n"
          ]
        }
      ]
    },
    {
      "cell_type": "code",
      "source": [
        "t1.count(100)"
      ],
      "metadata": {
        "colab": {
          "base_uri": "https://localhost:8080/"
        },
        "id": "v8dUsB5AeSe7",
        "outputId": "91c1ce8f-b88e-4549-df55-95dfc7e8998f"
      },
      "execution_count": null,
      "outputs": [
        {
          "output_type": "execute_result",
          "data": {
            "text/plain": [
              "1"
            ]
          },
          "metadata": {},
          "execution_count": 64
        }
      ]
    },
    {
      "cell_type": "code",
      "source": [
        "t1.index(100)"
      ],
      "metadata": {
        "colab": {
          "base_uri": "https://localhost:8080/"
        },
        "id": "p-wZuEc0eShZ",
        "outputId": "16f94a3a-4d80-4220-f01c-129a19984315"
      },
      "execution_count": null,
      "outputs": [
        {
          "output_type": "execute_result",
          "data": {
            "text/plain": [
              "0"
            ]
          },
          "metadata": {},
          "execution_count": 65
        }
      ]
    },
    {
      "cell_type": "markdown",
      "source": [
        "# LISTS Q"
      ],
      "metadata": {
        "id": "w5dLgv-zBnfC"
      }
    },
    {
      "cell_type": "code",
      "source": [
        "# accessing the elements from the list\n",
        "a = [100,2,3,4,100,5,6,8]\n",
        "for item in a:\n",
        "  print(item)"
      ],
      "metadata": {
        "colab": {
          "base_uri": "https://localhost:8080/"
        },
        "id": "Oo_UFnY5eSk0",
        "outputId": "3068999a-ce23-4148-f400-90c7717ab864"
      },
      "execution_count": null,
      "outputs": [
        {
          "output_type": "stream",
          "name": "stdout",
          "text": [
            "100\n",
            "2\n",
            "3\n",
            "4\n",
            "100\n",
            "5\n",
            "6\n",
            "8\n"
          ]
        }
      ]
    },
    {
      "cell_type": "code",
      "source": [
        "temp = []\n",
        "for item in a:\n",
        "  if item == 100:\n",
        "    continue;\n",
        "  else:\n",
        "    temp.append(item)\n",
        "print(temp)"
      ],
      "metadata": {
        "colab": {
          "base_uri": "https://localhost:8080/"
        },
        "id": "AUWe2NcxeSnf",
        "outputId": "0a6aabbf-205c-400b-c12c-dc885137499c"
      },
      "execution_count": null,
      "outputs": [
        {
          "output_type": "stream",
          "name": "stdout",
          "text": [
            "[2, 3, 4, 5, 6, 8]\n"
          ]
        }
      ]
    },
    {
      "cell_type": "code",
      "source": [
        "a= [15,100,100,100,15,100]\n",
        "for i in a:\n",
        "  a.remove(100)\n",
        "print(a)\n"
      ],
      "metadata": {
        "colab": {
          "base_uri": "https://localhost:8080/"
        },
        "id": "zZGR4C8ceSqF",
        "outputId": "4e4d7264-2fed-4580-d5e9-9ba666b92f2f"
      },
      "execution_count": null,
      "outputs": [
        {
          "output_type": "stream",
          "name": "stdout",
          "text": [
            "[15, 15, 100]\n"
          ]
        }
      ]
    },
    {
      "cell_type": "code",
      "source": [
        "temperatures = [100,24,34,2,54,65]\n",
        "hot= []\n",
        "cold = []\n",
        "\n",
        "for i in temperatures:\n",
        "  if i>25:\n",
        "    hot.append(i)\n",
        "  else:\n",
        "    cold.append(i)\n",
        "\n",
        "print(f\"This is hot:{hot} and this is cold: {cold}\")"
      ],
      "metadata": {
        "colab": {
          "base_uri": "https://localhost:8080/"
        },
        "id": "XV6gRfj9eSsj",
        "outputId": "9dec63f9-f73f-4f5e-8b78-987126f8358d"
      },
      "execution_count": null,
      "outputs": [
        {
          "output_type": "stream",
          "name": "stdout",
          "text": [
            "This is hot:[100, 34, 54, 65] and this is cold: [24, 2]\n"
          ]
        }
      ]
    },
    {
      "cell_type": "code",
      "source": [
        "# note here we use replace(\"$\",\"\")--> this will replace the dallar sign with empty space\n",
        "p = [\"100kwh\",\"200kwh\",\"150kwh\",\"70kwh\"]\n",
        "temp=[]\n",
        "for i in p:\n",
        "  x = i.replace(\"kwh\",\"\")\n",
        "  temp.append(int(x)) # Convert the string to an integer\n",
        "print(temp)\n",
        "\n",
        "print(sum(temp)) # Use the built-in sum() function for lists"
      ],
      "metadata": {
        "colab": {
          "base_uri": "https://localhost:8080/"
        },
        "id": "c5eO0fdReSwG",
        "outputId": "0bcf4700-5889-45fc-9333-6565c6ae0824"
      },
      "execution_count": null,
      "outputs": [
        {
          "output_type": "stream",
          "name": "stdout",
          "text": [
            "[100, 200, 150, 70]\n",
            "520\n"
          ]
        }
      ]
    },
    {
      "cell_type": "code",
      "source": [
        "mobile = \"91-81865t834768932\"\n",
        "# Q- print the country code from the movbile no\n",
        "s = mobile.split(\"-\")[1]\n",
        "print(s)"
      ],
      "metadata": {
        "colab": {
          "base_uri": "https://localhost:8080/"
        },
        "id": "j9_g7F6sDct0",
        "outputId": "3a16569a-32e0-43dd-db51-13582df11d68"
      },
      "execution_count": null,
      "outputs": [
        {
          "output_type": "stream",
          "name": "stdout",
          "text": [
            "81865t834768932\n"
          ]
        }
      ]
    },
    {
      "cell_type": "code",
      "source": [
        "mobile_phone_no = []\n",
        "cc = []\n",
        "mobile= [\"91-32748937\",\"91-23674567\"]\n",
        "for i in mobile:\n",
        "  cc.append(i.split(\"-\")[0])\n",
        "  mobile_phone_no.append(i.split(\"-\")[1])\n",
        "print(f\"this is country code{cc}\")\n",
        "print(f\" this is mobile no:{mobile_phone_no}\")"
      ],
      "metadata": {
        "colab": {
          "base_uri": "https://localhost:8080/"
        },
        "id": "9Le3gAdYHmMt",
        "outputId": "5c5ddf20-97c5-4136-d77d-0f868290ac49"
      },
      "execution_count": null,
      "outputs": [
        {
          "output_type": "stream",
          "name": "stdout",
          "text": [
            "this is country code['91', '91']\n",
            " this is mobile no:['32748937', '23674567']\n"
          ]
        }
      ]
    },
    {
      "cell_type": "markdown",
      "source": [
        "# MAP FUNCTION IN PYTHON(one of the most imp)\n",
        "\n",
        "WE NEED SOMEONE WHO CAN ITERATE WITHOUT LOOP TAKES LESS TIME\n",
        "\n",
        "The map() function in Python is a built-in function that applies a specified function to each item in an iterable (such as a list, tuple, etc.) and returns a map object, which can be converted into other sequence types like lists or tuples.\n",
        " The general syntax for the map() function is map(function, iterable, [iterable1, iterable2, ...]).\n",
        "\n",
        " def myfunc(a, b):\n",
        "    return a + b\n",
        "\n",
        "x = map(myfunc, ('apple', 'banana', 'cherry'), ('orange', 'lemon', 'pineapple'))"
      ],
      "metadata": {
        "id": "XzC-9qhOKrJH"
      }
    },
    {
      "cell_type": "code",
      "source": [
        "# look we can create our own function for text preprocessing in python--> this is very imp you can do it for you\n",
        "m = [\"dev@gmail.com\",\"vish@gmail.com\",\"shiv@gmail.com\"]\n",
        "def cal_mail(x):\n",
        "  return x.split(\"@\")[0]\n",
        "\n",
        "uname = map(cal_mail, m)\n",
        "print(list(uname))"
      ],
      "metadata": {
        "colab": {
          "base_uri": "https://localhost:8080/"
        },
        "id": "jWpQ_awoI1Rt",
        "outputId": "b879049f-afb6-4759-cacc-a778fb730664"
      },
      "execution_count": null,
      "outputs": [
        {
          "output_type": "stream",
          "name": "stdout",
          "text": [
            "['dev', 'vish', 'shiv']\n"
          ]
        }
      ]
    },
    {
      "cell_type": "markdown",
      "source": [
        "# DICTIONARIES IN PYTHON\n",
        "\n",
        "dict is the most imp thing here [\"key\"][n] this will print the value of the key at the nth position. this is the nested postion."
      ],
      "metadata": {
        "id": "3VvWRkFLNKnj"
      }
    },
    {
      "cell_type": "code",
      "source": [
        "stud = {\n",
        "    \"names\" :[\"dev\",\"shivam\",\"vishal\"] ,\n",
        "    \"roll_no\": [24,26,[16,\"sgjhndsf\", 43]],\n",
        "    \"email\":\"dev@gmail.com\"\n",
        "}\n",
        "print(stud[\"roll_no\"][2][2])\n",
        "\n"
      ],
      "metadata": {
        "colab": {
          "base_uri": "https://localhost:8080/"
        },
        "id": "HskbsP4FMEY1",
        "outputId": "4a892601-cbdf-489f-bb77-229176c7f795"
      },
      "execution_count": null,
      "outputs": [
        {
          "output_type": "stream",
          "name": "stdout",
          "text": [
            "43\n"
          ]
        }
      ]
    },
    {
      "cell_type": "markdown",
      "source": [
        "funtions in dictionary:\n",
        "\n"
      ],
      "metadata": {
        "id": "AmcReM-TPukD"
      }
    },
    {
      "cell_type": "code",
      "source": [
        "stud.items()"
      ],
      "metadata": {
        "colab": {
          "base_uri": "https://localhost:8080/"
        },
        "id": "7r1h9r27PdNg",
        "outputId": "a0bafd31-9289-444f-ecad-573748001b90"
      },
      "execution_count": null,
      "outputs": [
        {
          "output_type": "execute_result",
          "data": {
            "text/plain": [
              "dict_items([('names', ['dev', 'shivam', 'vishal']), ('roll_no', [24, 26, [16, 'sgjhndsf', 43]]), ('email', 'dev@gmail.com')])"
            ]
          },
          "metadata": {},
          "execution_count": 106
        }
      ]
    },
    {
      "cell_type": "code",
      "source": [
        "# Q:\n",
        "dt = {\n",
        "    \"a\": [100,200,300],\n",
        "    \"b\":[22,33,44],\n",
        "    \"c\":[90,91,92]\n",
        "    }\n",
        "# print(dt[\"a\"])\n",
        "for i in dt:\n",
        "  print(f\" this is the dict :{dt[i]}\")\n",
        "  print(f\" this is sum of all the lists: {sum(dt[i])}\")\n",
        "  print(f\" this is the sum of first and last ele: {dt[i][0]+dt[i][-1]}\")\n"
      ],
      "metadata": {
        "colab": {
          "base_uri": "https://localhost:8080/"
        },
        "id": "LOLJAWLgQKR-",
        "outputId": "8b36cefe-9f25-448a-996e-dfa4b1182c08"
      },
      "execution_count": null,
      "outputs": [
        {
          "output_type": "stream",
          "name": "stdout",
          "text": [
            " this is the dict :[100, 200, 300]\n",
            " this is sum of all the lists: 600\n",
            " this is the sum of first and last ele: 400\n",
            " this is the dict :[22, 33, 44]\n",
            " this is sum of all the lists: 99\n",
            " this is the sum of first and last ele: 66\n",
            " this is the dict :[90, 91, 92]\n",
            " this is sum of all the lists: 273\n",
            " this is the sum of first and last ele: 182\n"
          ]
        }
      ]
    },
    {
      "cell_type": "code",
      "source": [],
      "metadata": {
        "id": "kKM7L9BiRDUp"
      },
      "execution_count": null,
      "outputs": []
    }
  ]
}