{
  "nbformat": 4,
  "nbformat_minor": 0,
  "metadata": {
    "colab": {
      "provenance": [],
      "toc_visible": true,
      "authorship_tag": "ABX9TyO4QWwEauMqFhlE0+KCaZ7H",
      "include_colab_link": true
    },
    "kernelspec": {
      "name": "python3",
      "display_name": "Python 3"
    },
    "language_info": {
      "name": "python"
    }
  },
  "cells": [
    {
      "cell_type": "markdown",
      "metadata": {
        "id": "view-in-github",
        "colab_type": "text"
      },
      "source": [
        "<a href=\"https://colab.research.google.com/github/devesssi/EDUNNET/blob/main/Edunetday2.ipynb\" target=\"_parent\"><img src=\"https://colab.research.google.com/assets/colab-badge.svg\" alt=\"Open In Colab\"/></a>"
      ]
    },
    {
      "cell_type": "code",
      "execution_count": null,
      "metadata": {
        "colab": {
          "base_uri": "https://localhost:8080/"
        },
        "id": "zRrmdaEjSog9",
        "outputId": "14bebeac-37c5-47eb-fbf7-d31c532a2da2"
      },
      "outputs": [
        {
          "output_type": "stream",
          "name": "stdout",
          "text": [
            "9\n"
          ]
        }
      ],
      "source": [
        "sqr = lambda x : x*x\n",
        "print(sqr(3))"
      ]
    },
    {
      "cell_type": "markdown",
      "source": [
        "# topic: list comprehension\n",
        " List comprehensions in Python provide a concise way to create lists by iterating over an iterable and applying an expression to each item. They are particularly useful for simple transformations and filtering of data.\n",
        " For example, you can create a new list containing the squares of numbers from 0 to 9 using a list comprehension.\n",
        "\n",
        "\n",
        "**it is shortest way of creating new** **list** using existing sequence"
      ],
      "metadata": {
        "id": "Y-PFWH6eVX_v"
      }
    },
    {
      "cell_type": "code",
      "source": [
        "sq = [i*i for i in range(1,10)]\n",
        "print(sq)"
      ],
      "metadata": {
        "colab": {
          "base_uri": "https://localhost:8080/"
        },
        "id": "xIlaY57zVUXQ",
        "outputId": "d92c8aaf-3d3d-4ff9-fb8f-7068e8d05d11"
      },
      "execution_count": null,
      "outputs": [
        {
          "output_type": "stream",
          "name": "stdout",
          "text": [
            "[1, 4, 9, 16, 25, 36, 49, 64, 81]\n"
          ]
        }
      ]
    },
    {
      "cell_type": "code",
      "source": [
        "# if you are trying to assign a value to key that does not exist then that key will get added\n",
        "dt = {\"a\":4,\"b\":3}\n",
        "dt[\"c\"] = 45\n",
        "print(dt)"
      ],
      "metadata": {
        "colab": {
          "base_uri": "https://localhost:8080/"
        },
        "id": "iw0q3cKBVUiv",
        "outputId": "4ce5591b-3816-4075-b6ff-59d63b1d8c03"
      },
      "execution_count": null,
      "outputs": [
        {
          "output_type": "stream",
          "name": "stdout",
          "text": [
            "{'a': 4, 'b': 3, 'c': 45}\n"
          ]
        }
      ]
    },
    {
      "cell_type": "markdown",
      "source": [
        "# dict comprehension\n",
        "this is again shortest way to create a dict and also this is an alt for writing\n",
        "line of code to create and add a obj in dict\n",
        "like\n",
        "dt = {}\n",
        "for i in range(1,11)\n",
        "  dt[i] = i\n",
        "print(i)"
      ],
      "metadata": {
        "id": "BmmAeAcVZAxb"
      }
    },
    {
      "cell_type": "code",
      "source": [
        "dt = { i:i*1 for i in range(1,11)}\n",
        "dt"
      ],
      "metadata": {
        "colab": {
          "base_uri": "https://localhost:8080/"
        },
        "id": "pYEnBTAKVUol",
        "outputId": "551b3e86-9608-4389-f1e7-b3b62db2bbcc"
      },
      "execution_count": null,
      "outputs": [
        {
          "output_type": "execute_result",
          "data": {
            "text/plain": [
              "{1: 1, 2: 2, 3: 3, 4: 4, 5: 5, 6: 6, 7: 7, 8: 8, 9: 9, 10: 10}"
            ]
          },
          "metadata": {},
          "execution_count": 6
        }
      ]
    },
    {
      "cell_type": "markdown",
      "source": [
        "# EXPENSE CALCULATOR"
      ],
      "metadata": {
        "id": "ThYPz-olaUTT"
      }
    },
    {
      "cell_type": "code",
      "source": [
        "dt = {}\n",
        "while True:\n",
        "  choice = int(input(\"enter your choice /n 1. add /n 2.view /n 3. View By Category /n 4. Total Expense /n 5.Exit\"))\n",
        "  if choice == 1:\n",
        "    category = input(\"Enter Category you spent : \").lower()\n",
        "    amount = int(input(\"Enter your Expense:\"))\n",
        "    if category in dt:\n",
        "      dt[category] += amount\n",
        "    else:\n",
        "      dt[category] = amount\n",
        "  elif choice ==2:\n",
        "    print(dt)\n",
        "  elif choice ==3:\n",
        "    catget = input(\"Enter the Category to get Expense:\").lower()\n",
        "    print(dt.get(catget))\n",
        "  elif choice == 4:\n",
        "    print(sum(dt.values())) # this gets the sum of all the values\n",
        "  elif choice == 5:\n",
        "    break;\n"
      ],
      "metadata": {
        "colab": {
          "base_uri": "https://localhost:8080/"
        },
        "id": "PH8gg7jmVUwc",
        "outputId": "62b6f2d8-9f57-4c0f-f728-9d04b5966418"
      },
      "execution_count": null,
      "outputs": [
        {
          "name": "stdout",
          "output_type": "stream",
          "text": [
            "enter your choice /n 1. add /n 2.view /n 3. View By Category /n 4. Total Expense /n 5.Exit5\n"
          ]
        }
      ]
    },
    {
      "cell_type": "markdown",
      "source": [
        "difference between mean ,median and mode:\n",
        "\n",
        "case1:\n",
        "data 1.1,1.2,1.3,1.4,1.5\n",
        "mean = 1.3\n",
        "median = 1.3\n",
        "\n",
        "case2:\n",
        "data 1.1,1.2,1.3,350,450\n",
        "mean = 161\n",
        "median = 1.3\n",
        "\n",
        "\n",
        "when mean ,median and mode is used:\n",
        "\n",
        "mean when there is no outlier(when there is extreme values in the dataset) in the data,\n",
        "\n",
        "median when there is outlier in the data,\n",
        "\n",
        "mode (freq of the obj) when non numbers i.e grades and all"
      ],
      "metadata": {
        "id": "V4CYifxwZwlo"
      }
    },
    {
      "cell_type": "markdown",
      "source": [
        "# AGENDA:  1. DATA PROCESSING\n",
        "\n",
        "--> raw data, unprocessed data\n",
        "\n",
        "DATA COLLECTION:DBMS,EXCEL, WEBSCRAPING,API,CLOUD\n",
        "\n",
        "possibility (faults) in raw data:\n",
        "\n",
        "1.Missing Values\n",
        "2.incorrect data type\n",
        "3.Outliers\n",
        "\n",
        "\n",
        "steps:\n",
        "\n",
        "data collection-->EDA(dt)-->model builing -->evalute -->hypertuning -->Deploy"
      ],
      "metadata": {
        "id": "xfjwoZtBmIfL"
      }
    },
    {
      "cell_type": "markdown",
      "source": [
        "if there is outlier in data then consider median\n",
        "\n",
        "if there is not oulier than we can use both mean and median\n",
        "\n",
        "mode is used to find non numeric values"
      ],
      "metadata": {
        "id": "h882m5JruPV9"
      }
    },
    {
      "cell_type": "markdown",
      "source": [
        "# Efficient Data Handling for Renewable Energy Consumption Using NumPy"
      ],
      "metadata": {
        "id": "trrBNmPuyxKa"
      }
    },
    {
      "cell_type": "markdown",
      "source": [
        "#### Objectives:\n",
        "\n",
        "1.NumPy Arrays: We will create a NumPy array to efficiently store and manipulate numerical data for energy consumption (in MWh) from different renewable energy sources.\n",
        "\n",
        "2.Basic Operations: We will perform basic operations such as calculating the sum, mean, standard deviation, and reshaping the data for further analysis."
      ],
      "metadata": {
        "id": "htngN9j4y1-9"
      }
    },
    {
      "cell_type": "markdown",
      "source": [
        "### Step 1. Import NumPy and Create a Dataset\n",
        "\n",
        "We’ll begin by importing the NumPy library and creating a NumPy array to represent energy consumption data for different renewable energy sources."
      ],
      "metadata": {
        "id": "yy1OQaZHy4va"
      }
    },
    {
      "cell_type": "code",
      "source": [
        "import numpy as np\n",
        "\n",
        "# Energy consumption in MWh for different renewable sources: Solar, Wind, Hydropower, Geothermal, Biomass\n",
        "energy_consumption = np.array([1200, 3400, 2900, 1800, 2500])\n",
        "\n",
        "# Print the array\n",
        "print(\"Energy Consumption (in MWh) for Different Renewable Sources:\")\n",
        "print(energy_consumption)"
      ],
      "metadata": {
        "id": "wcLPxaKAVU1Z",
        "colab": {
          "base_uri": "https://localhost:8080/"
        },
        "outputId": "ae8f56cd-07e1-4557-8729-efbd7930f7e1"
      },
      "execution_count": 4,
      "outputs": [
        {
          "output_type": "stream",
          "name": "stdout",
          "text": [
            "Energy Consumption (in MWh) for Different Renewable Sources:\n",
            "[1200 3400 2900 1800 2500]\n"
          ]
        }
      ]
    },
    {
      "cell_type": "markdown",
      "source": [
        "We’ve created a NumPy array energy_consumption that stores energy consumption in megawatt-hours (MWh) for different renewable sources: Solar, Wind, Hydropower, Geothermal, and Biomass.\n",
        "\n",
        "The array provides efficient storage and manipulation of numerical data, which makes it suitable for large datasets."
      ],
      "metadata": {
        "id": "KAS-rkf7zCdh"
      }
    },
    {
      "cell_type": "markdown",
      "source": [
        "### Step 2: Perform Basic Operations\n"
      ],
      "metadata": {
        "id": "lguAghKIz__i"
      }
    },
    {
      "cell_type": "markdown",
      "source": [
        "#### 2.1. Calculate the Sum of Energy Consumption\n",
        "\n",
        "We’ll calculate the total energy consumption across all renewable sources."
      ],
      "metadata": {
        "id": "GUN9yQ3A0DUM"
      }
    },
    {
      "cell_type": "code",
      "execution_count": 5,
      "metadata": {
        "id": "e625b419",
        "outputId": "e0cb32ad-81d4-439b-8ac5-ae5c542c0644",
        "colab": {
          "base_uri": "https://localhost:8080/"
        }
      },
      "outputs": [
        {
          "output_type": "stream",
          "name": "stdout",
          "text": [
            "\n",
            "Total Energy Consumption: 11800 MWh\n"
          ]
        }
      ],
      "source": [
        "# Calculate the total energy consumption\n",
        "total_consumption = np.sum(energy_consumption)\n",
        "\n",
        "print(f\"\\nTotal Energy Consumption: {total_consumption} MWh\")\n"
      ]
    },
    {
      "cell_type": "markdown",
      "source": [
        "The np.mean() function calculates the average energy consumption by dividing the total consumption by the number of sources."
      ],
      "metadata": {
        "id": "EE3T7uq90K37"
      }
    },
    {
      "cell_type": "markdown",
      "source": [
        "#### 2.3. Calculate the Standard Deviation of Energy Consumption"
      ],
      "metadata": {
        "id": "FKj3yjw60YWJ"
      }
    },
    {
      "cell_type": "code",
      "source": [
        "# Calculate the standard deviation of energy consumption\n",
        "std_deviation = np.std(energy_consumption)\n",
        "\n",
        "print(f\"\\nStandard Deviation of Energy Consumption: {std_deviation:.2f} MWh\")\n"
      ],
      "metadata": {
        "id": "NoNn1BubVU3V",
        "colab": {
          "base_uri": "https://localhost:8080/"
        },
        "outputId": "da351770-f384-43a5-e069-bddfc2875a10"
      },
      "execution_count": 6,
      "outputs": [
        {
          "output_type": "stream",
          "name": "stdout",
          "text": [
            "\n",
            "Standard Deviation of Energy Consumption: 781.28 MWh\n"
          ]
        }
      ]
    },
    {
      "cell_type": "markdown",
      "source": [
        "#### 2.4. Reshaping the Array\n",
        "\n",
        "Now, let’s reshape the array to demonstrate how we can manipulate its structure. We’ll reshape it into a 5x1 array."
      ],
      "metadata": {
        "id": "5Woig1m70fA2"
      }
    },
    {
      "cell_type": "code",
      "source": [
        "# Reshape the array (to 5 rows and 1 column)\n",
        "reshaped_array = energy_consumption.reshape((5, 1))\n",
        "\n",
        "print(\"\\nReshaped Energy Consumption Array (5x1):\")\n",
        "print(reshaped_array)\n"
      ],
      "metadata": {
        "id": "KQMKWzMaVU45",
        "colab": {
          "base_uri": "https://localhost:8080/"
        },
        "outputId": "6bd64660-4c00-4a1a-b218-6f59b3e9bd0c"
      },
      "execution_count": 7,
      "outputs": [
        {
          "output_type": "stream",
          "name": "stdout",
          "text": [
            "\n",
            "Reshaped Energy Consumption Array (5x1):\n",
            "[[1200]\n",
            " [3400]\n",
            " [2900]\n",
            " [1800]\n",
            " [2500]]\n"
          ]
        }
      ]
    },
    {
      "cell_type": "markdown",
      "source": [
        "The reshape() function changes the shape of the array from a 1D array (of length 5) to a 2D array with 5 rows and 1 column, allowing for further analysis or integration into matrix operations."
      ],
      "metadata": {
        "id": "FKDHR33c01BL"
      }
    },
    {
      "cell_type": "markdown",
      "source": [
        "### Conclusion\n",
        "\n",
        "In this lab assignment, we used NumPy to create an array representing energy consumption from various renewable sources. By leveraging NumPy’s powerful functions, we efficiently performed basic operations such as summing the data, calculating the mean and standard deviation, and reshaping the array for more complex data manipulations. NumPy's efficient handling of numerical data makes it an essential tool for energy-related data analysis and large-scale computations."
      ],
      "metadata": {
        "id": "apMoKSBa05Gd"
      }
    }
  ]
}